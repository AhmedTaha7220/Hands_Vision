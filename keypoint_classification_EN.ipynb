{
 "cells": [
  {
   "cell_type": "code",
   "execution_count": 1,
   "metadata": {
    "ExecuteTime": {
     "end_time": "2023-12-04T19:03:55.920739Z",
     "start_time": "2023-12-04T19:03:52.441944Z"
    },
    "id": "igMyGnjE9hEp"
   },
   "outputs": [
    {
     "name": "stderr",
     "output_type": "stream",
     "text": [
      "C:\\Users\\20100\\anaconda3\\lib\\site-packages\\scipy\\__init__.py:146: UserWarning: A NumPy version >=1.16.5 and <1.23.0 is required for this version of SciPy (detected version 1.26.2\n",
      "  warnings.warn(f\"A NumPy version >={np_minversion} and <{np_maxversion}\"\n"
     ]
    }
   ],
   "source": [
    "import csv\n",
    "\n",
    "import numpy as np\n",
    "import tensorflow as tf\n",
    "from sklearn.model_selection import train_test_split\n",
    "\n",
    "RANDOM_SEED = 42"
   ]
  },
  {
   "cell_type": "markdown",
   "metadata": {
    "id": "t2HDvhIu9hEr"
   },
   "source": [
    "# Specify each path"
   ]
  },
  {
   "cell_type": "code",
   "execution_count": 2,
   "metadata": {
    "ExecuteTime": {
     "end_time": "2023-12-04T19:03:56.761988Z",
     "start_time": "2023-12-04T19:03:56.757098Z"
    },
    "id": "9NvZP2Zn9hEy"
   },
   "outputs": [],
   "source": [
    "dataset = 'model/keypoint_classifier/keypoint.csv'\n",
    "model_save_path = 'model/keypoint_classifier/keypoint_classifier.hdf5'\n",
    "tflite_save_path = 'model/keypoint_classifier/keypoint_classifier.tflite'"
   ]
  },
  {
   "cell_type": "markdown",
   "metadata": {
    "id": "s5oMH7x19hEz"
   },
   "source": [
    "# Set number of classes"
   ]
  },
  {
   "cell_type": "code",
   "execution_count": 3,
   "metadata": {
    "ExecuteTime": {
     "end_time": "2023-12-04T19:03:58.091494Z",
     "start_time": "2023-12-04T19:03:58.086670Z"
    },
    "id": "du4kodXL9hEz"
   },
   "outputs": [],
   "source": [
    "NUM_CLASSES = 6"
   ]
  },
  {
   "cell_type": "markdown",
   "metadata": {
    "id": "XjnL0uso9hEz"
   },
   "source": [
    "# Dataset reading"
   ]
  },
  {
   "cell_type": "code",
   "execution_count": 4,
   "metadata": {
    "ExecuteTime": {
     "end_time": "2023-12-04T19:03:59.802964Z",
     "start_time": "2023-12-04T19:03:59.739104Z"
    },
    "id": "QT5ZqtEz9hE0"
   },
   "outputs": [],
   "source": [
    "X_dataset = np.loadtxt(dataset, delimiter=',', dtype='float32', usecols=list(range(1, (21 * 2) + 1)))"
   ]
  },
  {
   "cell_type": "code",
   "execution_count": 5,
   "metadata": {
    "ExecuteTime": {
     "end_time": "2023-12-04T19:04:00.670178Z",
     "start_time": "2023-12-04T19:04:00.646695Z"
    },
    "id": "QmoKFsp49hE0"
   },
   "outputs": [],
   "source": [
    "y_dataset = np.loadtxt(dataset, delimiter=',', dtype='int32', usecols=(0))"
   ]
  },
  {
   "cell_type": "code",
   "execution_count": 6,
   "metadata": {
    "ExecuteTime": {
     "end_time": "2023-12-04T19:04:01.327932Z",
     "start_time": "2023-12-04T19:04:01.320524Z"
    },
    "id": "xQU7JTZ_9hE0"
   },
   "outputs": [],
   "source": [
    "X_train, X_test, y_train, y_test = train_test_split(X_dataset, y_dataset, train_size=0.75, random_state=RANDOM_SEED)"
   ]
  },
  {
   "cell_type": "markdown",
   "metadata": {
    "id": "mxK_lETT9hE0"
   },
   "source": [
    "# Model building"
   ]
  },
  {
   "cell_type": "code",
   "execution_count": 7,
   "metadata": {
    "ExecuteTime": {
     "end_time": "2023-12-04T19:04:12.542270Z",
     "start_time": "2023-12-04T19:04:12.341957Z"
    },
    "id": "vHBmUf1t9hE1"
   },
   "outputs": [],
   "source": [
    "model = tf.keras.models.Sequential([\n",
    "    tf.keras.layers.Input((21 * 2, )),\n",
    "    tf.keras.layers.Dropout(0.2),\n",
    "    tf.keras.layers.Dense(20, activation='relu'),\n",
    "    tf.keras.layers.Dropout(0.4),\n",
    "    tf.keras.layers.Dense(10, activation='relu'),\n",
    "    tf.keras.layers.Dense(NUM_CLASSES, activation='softmax')\n",
    "])"
   ]
  },
  {
   "cell_type": "code",
   "execution_count": 8,
   "metadata": {
    "ExecuteTime": {
     "end_time": "2023-12-04T19:04:14.360417Z",
     "start_time": "2023-12-04T19:04:14.345878Z"
    },
    "colab": {
     "base_uri": "https://localhost:8080/"
    },
    "id": "ypqky9tc9hE1",
    "outputId": "5db082bb-30e3-4110-bf63-a1ee777ecd46"
   },
   "outputs": [
    {
     "name": "stdout",
     "output_type": "stream",
     "text": [
      "Model: \"sequential\"\n",
      "_________________________________________________________________\n",
      " Layer (type)                Output Shape              Param #   \n",
      "=================================================================\n",
      " dropout (Dropout)           (None, 42)                0         \n",
      "                                                                 \n",
      " dense (Dense)               (None, 20)                860       \n",
      "                                                                 \n",
      " dropout_1 (Dropout)         (None, 20)                0         \n",
      "                                                                 \n",
      " dense_1 (Dense)             (None, 10)                210       \n",
      "                                                                 \n",
      " dense_2 (Dense)             (None, 6)                 66        \n",
      "                                                                 \n",
      "=================================================================\n",
      "Total params: 1136 (4.44 KB)\n",
      "Trainable params: 1136 (4.44 KB)\n",
      "Non-trainable params: 0 (0.00 Byte)\n",
      "_________________________________________________________________\n"
     ]
    }
   ],
   "source": [
    "model.summary()  # tf.keras.utils.plot_model(model, show_shapes=True)"
   ]
  },
  {
   "cell_type": "code",
   "execution_count": 9,
   "metadata": {
    "ExecuteTime": {
     "end_time": "2023-12-04T19:04:56.762413Z",
     "start_time": "2023-12-04T19:04:56.756320Z"
    },
    "id": "MbMjOflQ9hE1"
   },
   "outputs": [],
   "source": [
    "# Model checkpoint callback\n",
    "cp_callback = tf.keras.callbacks.ModelCheckpoint(\n",
    "    model_save_path, verbose=1, save_weights_only=False)\n",
    "# Callback for early stopping\n",
    "es_callback = tf.keras.callbacks.EarlyStopping(patience=20, verbose=1)"
   ]
  },
  {
   "cell_type": "code",
   "execution_count": 10,
   "metadata": {
    "ExecuteTime": {
     "end_time": "2023-12-04T19:04:58.214485Z",
     "start_time": "2023-12-04T19:04:58.193924Z"
    },
    "id": "c3Dac0M_9hE2"
   },
   "outputs": [],
   "source": [
    "# Model compilation\n",
    "model.compile(\n",
    "    optimizer='adam',\n",
    "    loss='sparse_categorical_crossentropy',\n",
    "    metrics=['accuracy']\n",
    ")"
   ]
  },
  {
   "cell_type": "markdown",
   "metadata": {
    "id": "7XI0j1Iu9hE2"
   },
   "source": [
    "# Model training"
   ]
  },
  {
   "cell_type": "code",
   "execution_count": 11,
   "metadata": {
    "ExecuteTime": {
     "end_time": "2023-12-04T19:05:45.164857Z",
     "start_time": "2023-12-04T19:05:23.352721Z"
    },
    "colab": {
     "base_uri": "https://localhost:8080/"
    },
    "id": "WirBl-JE9hE3",
    "outputId": "71b30ca2-8294-4d9d-8aa2-800d90d399de",
    "scrolled": true
   },
   "outputs": [
    {
     "name": "stdout",
     "output_type": "stream",
     "text": [
      "Epoch 1/1000\n",
      " 1/19 [>.............................] - ETA: 9s - loss: 1.8467 - accuracy: 0.1250\n",
      "Epoch 1: saving model to model/keypoint_classifier\\keypoint_classifier.hdf5\n",
      "19/19 [==============================] - 1s 13ms/step - loss: 1.7669 - accuracy: 0.1803 - val_loss: 1.6946 - val_accuracy: 0.2286\n",
      "Epoch 2/1000\n",
      " 1/19 [>.............................] - ETA: 0s - loss: 1.7219 - accuracy: 0.1875\n",
      "Epoch 2: saving model to model/keypoint_classifier\\keypoint_classifier.hdf5\n",
      "19/19 [==============================] - 0s 4ms/step - loss: 1.6849 - accuracy: 0.2279 - val_loss: 1.5998 - val_accuracy: 0.3528\n",
      "Epoch 3/1000\n",
      " 1/19 [>.............................] - ETA: 0s - loss: 1.6576 - accuracy: 0.2969\n",
      "Epoch 3: saving model to model/keypoint_classifier\\keypoint_classifier.hdf5\n"
     ]
    },
    {
     "name": "stderr",
     "output_type": "stream",
     "text": [
      "C:\\Users\\20100\\anaconda3\\lib\\site-packages\\keras\\src\\engine\\training.py:3079: UserWarning: You are saving your model as an HDF5 file via `model.save()`. This file format is considered legacy. We recommend using instead the native Keras format, e.g. `model.save('my_model.keras')`.\n",
      "  saving_api.save_model(\n"
     ]
    },
    {
     "name": "stdout",
     "output_type": "stream",
     "text": [
      "19/19 [==============================] - 0s 4ms/step - loss: 1.5995 - accuracy: 0.3170 - val_loss: 1.5115 - val_accuracy: 0.5168\n",
      "Epoch 4/1000\n",
      " 1/19 [>.............................] - ETA: 0s - loss: 1.6011 - accuracy: 0.3203\n",
      "Epoch 4: saving model to model/keypoint_classifier\\keypoint_classifier.hdf5\n",
      "19/19 [==============================] - 0s 5ms/step - loss: 1.5348 - accuracy: 0.3821 - val_loss: 1.4229 - val_accuracy: 0.5590\n",
      "Epoch 5/1000\n",
      " 1/19 [>.............................] - ETA: 0s - loss: 1.4562 - accuracy: 0.4062\n",
      "Epoch 5: saving model to model/keypoint_classifier\\keypoint_classifier.hdf5\n",
      "19/19 [==============================] - 0s 4ms/step - loss: 1.4474 - accuracy: 0.4397 - val_loss: 1.3279 - val_accuracy: 0.5776\n",
      "Epoch 6/1000\n",
      " 1/19 [>.............................] - ETA: 0s - loss: 1.3921 - accuracy: 0.4531\n",
      "Epoch 6: saving model to model/keypoint_classifier\\keypoint_classifier.hdf5\n",
      "19/19 [==============================] - 0s 4ms/step - loss: 1.3869 - accuracy: 0.4567 - val_loss: 1.2333 - val_accuracy: 0.5888\n",
      "Epoch 7/1000\n",
      " 1/19 [>.............................] - ETA: 0s - loss: 1.3359 - accuracy: 0.4844\n",
      "Epoch 7: saving model to model/keypoint_classifier\\keypoint_classifier.hdf5\n",
      "19/19 [==============================] - 0s 4ms/step - loss: 1.3045 - accuracy: 0.4923 - val_loss: 1.1428 - val_accuracy: 0.5963\n",
      "Epoch 8/1000\n",
      " 1/19 [>.............................] - ETA: 0s - loss: 1.2954 - accuracy: 0.4844\n",
      "Epoch 8: saving model to model/keypoint_classifier\\keypoint_classifier.hdf5\n",
      "19/19 [==============================] - 0s 4ms/step - loss: 1.2272 - accuracy: 0.5276 - val_loss: 1.0547 - val_accuracy: 0.6062\n",
      "Epoch 9/1000\n",
      " 1/19 [>.............................] - ETA: 0s - loss: 1.2055 - accuracy: 0.5391\n",
      "Epoch 9: saving model to model/keypoint_classifier\\keypoint_classifier.hdf5\n",
      "19/19 [==============================] - 0s 4ms/step - loss: 1.1699 - accuracy: 0.5213 - val_loss: 0.9786 - val_accuracy: 0.6683\n",
      "Epoch 10/1000\n",
      " 1/19 [>.............................] - ETA: 0s - loss: 1.0406 - accuracy: 0.6016\n",
      "Epoch 10: saving model to model/keypoint_classifier\\keypoint_classifier.hdf5\n",
      "19/19 [==============================] - 0s 4ms/step - loss: 1.0937 - accuracy: 0.5628 - val_loss: 0.9191 - val_accuracy: 0.7006\n",
      "Epoch 11/1000\n",
      " 1/19 [>.............................] - ETA: 0s - loss: 1.0856 - accuracy: 0.5547\n",
      "Epoch 11: saving model to model/keypoint_classifier\\keypoint_classifier.hdf5\n",
      "19/19 [==============================] - 0s 4ms/step - loss: 1.0685 - accuracy: 0.5723 - val_loss: 0.8729 - val_accuracy: 0.7106\n",
      "Epoch 12/1000\n",
      " 1/19 [>.............................] - ETA: 0s - loss: 1.1494 - accuracy: 0.5078\n",
      "Epoch 12: saving model to model/keypoint_classifier\\keypoint_classifier.hdf5\n",
      "19/19 [==============================] - 0s 4ms/step - loss: 1.0443 - accuracy: 0.5690 - val_loss: 0.8334 - val_accuracy: 0.7677\n",
      "Epoch 13/1000\n",
      " 1/19 [>.............................] - ETA: 0s - loss: 1.0800 - accuracy: 0.5156\n",
      "Epoch 13: saving model to model/keypoint_classifier\\keypoint_classifier.hdf5\n",
      "19/19 [==============================] - 0s 4ms/step - loss: 1.0256 - accuracy: 0.5785 - val_loss: 0.8007 - val_accuracy: 0.7851\n",
      "Epoch 14/1000\n",
      " 1/19 [>.............................] - ETA: 0s - loss: 1.0115 - accuracy: 0.5312\n",
      "Epoch 14: saving model to model/keypoint_classifier\\keypoint_classifier.hdf5\n",
      "19/19 [==============================] - 0s 4ms/step - loss: 0.9670 - accuracy: 0.6075 - val_loss: 0.7714 - val_accuracy: 0.8012\n",
      "Epoch 15/1000\n",
      " 1/19 [>.............................] - ETA: 0s - loss: 0.9503 - accuracy: 0.6562\n",
      "Epoch 15: saving model to model/keypoint_classifier\\keypoint_classifier.hdf5\n",
      "19/19 [==============================] - 0s 4ms/step - loss: 0.9488 - accuracy: 0.6287 - val_loss: 0.7415 - val_accuracy: 0.8062\n",
      "Epoch 16/1000\n",
      " 1/19 [>.............................] - ETA: 0s - loss: 0.9550 - accuracy: 0.6094\n",
      "Epoch 16: saving model to model/keypoint_classifier\\keypoint_classifier.hdf5\n",
      "19/19 [==============================] - 0s 5ms/step - loss: 0.9222 - accuracy: 0.6287 - val_loss: 0.7065 - val_accuracy: 0.8335\n",
      "Epoch 17/1000\n",
      " 1/19 [>.............................] - ETA: 0s - loss: 0.8481 - accuracy: 0.6719\n",
      "Epoch 17: saving model to model/keypoint_classifier\\keypoint_classifier.hdf5\n",
      "19/19 [==============================] - 0s 5ms/step - loss: 0.9038 - accuracy: 0.6370 - val_loss: 0.6737 - val_accuracy: 0.8447\n",
      "Epoch 18/1000\n",
      " 1/19 [>.............................] - ETA: 0s - loss: 0.9262 - accuracy: 0.6094\n",
      "Epoch 18: saving model to model/keypoint_classifier\\keypoint_classifier.hdf5\n",
      "19/19 [==============================] - 0s 5ms/step - loss: 0.8663 - accuracy: 0.6424 - val_loss: 0.6466 - val_accuracy: 0.8596\n",
      "Epoch 19/1000\n",
      " 1/19 [>.............................] - ETA: 0s - loss: 0.9111 - accuracy: 0.6172\n",
      "Epoch 19: saving model to model/keypoint_classifier\\keypoint_classifier.hdf5\n",
      "19/19 [==============================] - 0s 5ms/step - loss: 0.8710 - accuracy: 0.6589 - val_loss: 0.6200 - val_accuracy: 0.8708\n",
      "Epoch 20/1000\n",
      " 1/19 [>.............................] - ETA: 0s - loss: 0.8178 - accuracy: 0.6797\n",
      "Epoch 20: saving model to model/keypoint_classifier\\keypoint_classifier.hdf5\n",
      "19/19 [==============================] - 0s 5ms/step - loss: 0.8424 - accuracy: 0.6535 - val_loss: 0.5978 - val_accuracy: 0.8770\n",
      "Epoch 21/1000\n",
      " 1/19 [>.............................] - ETA: 0s - loss: 0.9278 - accuracy: 0.6406\n",
      "Epoch 21: saving model to model/keypoint_classifier\\keypoint_classifier.hdf5\n",
      "19/19 [==============================] - 0s 5ms/step - loss: 0.8259 - accuracy: 0.6651 - val_loss: 0.5815 - val_accuracy: 0.8708\n",
      "Epoch 22/1000\n",
      " 1/19 [>.............................] - ETA: 0s - loss: 0.7944 - accuracy: 0.7109\n",
      "Epoch 22: saving model to model/keypoint_classifier\\keypoint_classifier.hdf5\n",
      "19/19 [==============================] - 0s 4ms/step - loss: 0.7989 - accuracy: 0.6797 - val_loss: 0.5591 - val_accuracy: 0.9193\n",
      "Epoch 23/1000\n",
      " 1/19 [>.............................] - ETA: 0s - loss: 0.7863 - accuracy: 0.6719\n",
      "Epoch 23: saving model to model/keypoint_classifier\\keypoint_classifier.hdf5\n",
      "19/19 [==============================] - 0s 5ms/step - loss: 0.7876 - accuracy: 0.6809 - val_loss: 0.5367 - val_accuracy: 0.8882\n",
      "Epoch 24/1000\n",
      " 1/19 [>.............................] - ETA: 0s - loss: 0.8351 - accuracy: 0.6797\n",
      "Epoch 24: saving model to model/keypoint_classifier\\keypoint_classifier.hdf5\n",
      "19/19 [==============================] - 0s 5ms/step - loss: 0.7723 - accuracy: 0.6917 - val_loss: 0.5186 - val_accuracy: 0.9180\n",
      "Epoch 25/1000\n",
      " 1/19 [>.............................] - ETA: 0s - loss: 0.8531 - accuracy: 0.6641\n",
      "Epoch 25: saving model to model/keypoint_classifier\\keypoint_classifier.hdf5\n",
      "19/19 [==============================] - 0s 5ms/step - loss: 0.7761 - accuracy: 0.6900 - val_loss: 0.5031 - val_accuracy: 0.9255\n",
      "Epoch 26/1000\n",
      " 1/19 [>.............................] - ETA: 0s - loss: 0.7152 - accuracy: 0.7422\n",
      "Epoch 26: saving model to model/keypoint_classifier\\keypoint_classifier.hdf5\n",
      "19/19 [==============================] - 0s 4ms/step - loss: 0.7520 - accuracy: 0.7074 - val_loss: 0.4871 - val_accuracy: 0.9292\n",
      "Epoch 27/1000\n",
      " 1/19 [>.............................] - ETA: 0s - loss: 0.6650 - accuracy: 0.7266\n",
      "Epoch 27: saving model to model/keypoint_classifier\\keypoint_classifier.hdf5\n",
      "19/19 [==============================] - 0s 4ms/step - loss: 0.7420 - accuracy: 0.7058 - val_loss: 0.4684 - val_accuracy: 0.9342\n",
      "Epoch 28/1000\n",
      " 1/19 [>.............................] - ETA: 0s - loss: 0.7313 - accuracy: 0.7266\n",
      "Epoch 28: saving model to model/keypoint_classifier\\keypoint_classifier.hdf5\n",
      "19/19 [==============================] - 0s 5ms/step - loss: 0.7398 - accuracy: 0.6995 - val_loss: 0.4563 - val_accuracy: 0.9391\n",
      "Epoch 29/1000\n",
      " 1/19 [>.............................] - ETA: 0s - loss: 0.6632 - accuracy: 0.7422\n",
      "Epoch 29: saving model to model/keypoint_classifier\\keypoint_classifier.hdf5\n",
      "19/19 [==============================] - 0s 5ms/step - loss: 0.7235 - accuracy: 0.7190 - val_loss: 0.4473 - val_accuracy: 0.9354\n",
      "Epoch 30/1000\n",
      " 1/19 [>.............................] - ETA: 0s - loss: 0.7233 - accuracy: 0.7109\n",
      "Epoch 30: saving model to model/keypoint_classifier\\keypoint_classifier.hdf5\n",
      "19/19 [==============================] - 0s 4ms/step - loss: 0.7171 - accuracy: 0.7165 - val_loss: 0.4304 - val_accuracy: 0.9416\n"
     ]
    },
    {
     "name": "stdout",
     "output_type": "stream",
     "text": [
      "Epoch 31/1000\n",
      " 1/19 [>.............................] - ETA: 0s - loss: 0.7216 - accuracy: 0.6797\n",
      "Epoch 31: saving model to model/keypoint_classifier\\keypoint_classifier.hdf5\n",
      "19/19 [==============================] - 0s 5ms/step - loss: 0.6797 - accuracy: 0.7360 - val_loss: 0.4244 - val_accuracy: 0.9404\n",
      "Epoch 32/1000\n",
      " 1/19 [>.............................] - ETA: 0s - loss: 0.7862 - accuracy: 0.6797\n",
      "Epoch 32: saving model to model/keypoint_classifier\\keypoint_classifier.hdf5\n",
      "19/19 [==============================] - 0s 4ms/step - loss: 0.6915 - accuracy: 0.7219 - val_loss: 0.4147 - val_accuracy: 0.9578\n",
      "Epoch 33/1000\n",
      " 1/19 [>.............................] - ETA: 0s - loss: 0.6517 - accuracy: 0.7812\n",
      "Epoch 33: saving model to model/keypoint_classifier\\keypoint_classifier.hdf5\n",
      "19/19 [==============================] - 0s 5ms/step - loss: 0.6875 - accuracy: 0.7344 - val_loss: 0.4065 - val_accuracy: 0.9416\n",
      "Epoch 34/1000\n",
      " 1/19 [>.............................] - ETA: 0s - loss: 0.6784 - accuracy: 0.6953\n",
      "Epoch 34: saving model to model/keypoint_classifier\\keypoint_classifier.hdf5\n",
      "19/19 [==============================] - 0s 5ms/step - loss: 0.6899 - accuracy: 0.7294 - val_loss: 0.3971 - val_accuracy: 0.9615\n",
      "Epoch 35/1000\n",
      " 1/19 [>.............................] - ETA: 0s - loss: 0.6974 - accuracy: 0.6406\n",
      "Epoch 35: saving model to model/keypoint_classifier\\keypoint_classifier.hdf5\n",
      "19/19 [==============================] - 0s 4ms/step - loss: 0.6547 - accuracy: 0.7513 - val_loss: 0.3876 - val_accuracy: 0.9652\n",
      "Epoch 36/1000\n",
      " 1/19 [>.............................] - ETA: 0s - loss: 0.6894 - accuracy: 0.7422\n",
      "Epoch 36: saving model to model/keypoint_classifier\\keypoint_classifier.hdf5\n",
      "19/19 [==============================] - 0s 5ms/step - loss: 0.6594 - accuracy: 0.7493 - val_loss: 0.3766 - val_accuracy: 0.9689\n",
      "Epoch 37/1000\n",
      " 1/19 [>.............................] - ETA: 0s - loss: 0.5769 - accuracy: 0.7500\n",
      "Epoch 37: saving model to model/keypoint_classifier\\keypoint_classifier.hdf5\n",
      "19/19 [==============================] - 0s 5ms/step - loss: 0.6684 - accuracy: 0.7389 - val_loss: 0.3684 - val_accuracy: 0.9540\n",
      "Epoch 38/1000\n",
      " 1/19 [>.............................] - ETA: 0s - loss: 0.6527 - accuracy: 0.7266\n",
      "Epoch 38: saving model to model/keypoint_classifier\\keypoint_classifier.hdf5\n",
      "19/19 [==============================] - 0s 5ms/step - loss: 0.6438 - accuracy: 0.7439 - val_loss: 0.3643 - val_accuracy: 0.9590\n",
      "Epoch 39/1000\n",
      " 1/19 [>.............................] - ETA: 0s - loss: 0.5871 - accuracy: 0.7422\n",
      "Epoch 39: saving model to model/keypoint_classifier\\keypoint_classifier.hdf5\n",
      "19/19 [==============================] - 0s 5ms/step - loss: 0.6460 - accuracy: 0.7559 - val_loss: 0.3522 - val_accuracy: 0.9714\n",
      "Epoch 40/1000\n",
      " 1/19 [>.............................] - ETA: 0s - loss: 0.5925 - accuracy: 0.7891\n",
      "Epoch 40: saving model to model/keypoint_classifier\\keypoint_classifier.hdf5\n",
      "19/19 [==============================] - 0s 5ms/step - loss: 0.6370 - accuracy: 0.7513 - val_loss: 0.3486 - val_accuracy: 0.9714\n",
      "Epoch 41/1000\n",
      " 1/19 [>.............................] - ETA: 0s - loss: 0.8086 - accuracy: 0.6953\n",
      "Epoch 41: saving model to model/keypoint_classifier\\keypoint_classifier.hdf5\n",
      "19/19 [==============================] - 0s 5ms/step - loss: 0.6326 - accuracy: 0.7559 - val_loss: 0.3450 - val_accuracy: 0.9714\n",
      "Epoch 42/1000\n",
      " 1/19 [>.............................] - ETA: 0s - loss: 0.4987 - accuracy: 0.8281\n",
      "Epoch 42: saving model to model/keypoint_classifier\\keypoint_classifier.hdf5\n",
      "19/19 [==============================] - 0s 5ms/step - loss: 0.6401 - accuracy: 0.7542 - val_loss: 0.3434 - val_accuracy: 0.9702\n",
      "Epoch 43/1000\n",
      " 1/19 [>.............................] - ETA: 0s - loss: 0.6771 - accuracy: 0.7500\n",
      "Epoch 43: saving model to model/keypoint_classifier\\keypoint_classifier.hdf5\n",
      "19/19 [==============================] - 0s 5ms/step - loss: 0.6205 - accuracy: 0.7530 - val_loss: 0.3396 - val_accuracy: 0.9553\n",
      "Epoch 44/1000\n",
      " 1/19 [>.............................] - ETA: 0s - loss: 0.6992 - accuracy: 0.7656\n",
      "Epoch 44: saving model to model/keypoint_classifier\\keypoint_classifier.hdf5\n",
      "19/19 [==============================] - 0s 4ms/step - loss: 0.6262 - accuracy: 0.7555 - val_loss: 0.3319 - val_accuracy: 0.9702\n",
      "Epoch 45/1000\n",
      " 1/19 [>.............................] - ETA: 0s - loss: 0.7138 - accuracy: 0.7031\n",
      "Epoch 45: saving model to model/keypoint_classifier\\keypoint_classifier.hdf5\n",
      "19/19 [==============================] - 0s 4ms/step - loss: 0.6159 - accuracy: 0.7596 - val_loss: 0.3285 - val_accuracy: 0.9627\n",
      "Epoch 46/1000\n",
      " 1/19 [>.............................] - ETA: 0s - loss: 0.4789 - accuracy: 0.8047\n",
      "Epoch 46: saving model to model/keypoint_classifier\\keypoint_classifier.hdf5\n",
      "19/19 [==============================] - 0s 5ms/step - loss: 0.6236 - accuracy: 0.7505 - val_loss: 0.3249 - val_accuracy: 0.9689\n",
      "Epoch 47/1000\n",
      " 1/19 [>.............................] - ETA: 0s - loss: 0.6195 - accuracy: 0.7734\n",
      "Epoch 47: saving model to model/keypoint_classifier\\keypoint_classifier.hdf5\n",
      "19/19 [==============================] - 0s 5ms/step - loss: 0.6071 - accuracy: 0.7704 - val_loss: 0.3198 - val_accuracy: 0.9702\n",
      "Epoch 48/1000\n",
      " 1/19 [>.............................] - ETA: 0s - loss: 0.6487 - accuracy: 0.6875\n",
      "Epoch 48: saving model to model/keypoint_classifier\\keypoint_classifier.hdf5\n",
      "19/19 [==============================] - 0s 5ms/step - loss: 0.6139 - accuracy: 0.7509 - val_loss: 0.3159 - val_accuracy: 0.9702\n",
      "Epoch 49/1000\n",
      " 1/19 [>.............................] - ETA: 0s - loss: 0.6335 - accuracy: 0.7734\n",
      "Epoch 49: saving model to model/keypoint_classifier\\keypoint_classifier.hdf5\n",
      "19/19 [==============================] - 0s 5ms/step - loss: 0.6103 - accuracy: 0.7638 - val_loss: 0.3154 - val_accuracy: 0.9702\n",
      "Epoch 50/1000\n",
      " 1/19 [>.............................] - ETA: 0s - loss: 0.5926 - accuracy: 0.7891\n",
      "Epoch 50: saving model to model/keypoint_classifier\\keypoint_classifier.hdf5\n",
      "19/19 [==============================] - 0s 5ms/step - loss: 0.5772 - accuracy: 0.7841 - val_loss: 0.3084 - val_accuracy: 0.9714\n",
      "Epoch 51/1000\n",
      " 1/19 [>.............................] - ETA: 0s - loss: 0.6028 - accuracy: 0.7812\n",
      "Epoch 51: saving model to model/keypoint_classifier\\keypoint_classifier.hdf5\n",
      "19/19 [==============================] - 0s 5ms/step - loss: 0.6026 - accuracy: 0.7688 - val_loss: 0.3156 - val_accuracy: 0.9727\n",
      "Epoch 52/1000\n",
      " 1/19 [>.............................] - ETA: 0s - loss: 0.5511 - accuracy: 0.8125\n",
      "Epoch 52: saving model to model/keypoint_classifier\\keypoint_classifier.hdf5\n",
      "19/19 [==============================] - 0s 5ms/step - loss: 0.5978 - accuracy: 0.7634 - val_loss: 0.3096 - val_accuracy: 0.9702\n",
      "Epoch 53/1000\n",
      " 1/19 [>.............................] - ETA: 0s - loss: 0.5177 - accuracy: 0.8281\n",
      "Epoch 53: saving model to model/keypoint_classifier\\keypoint_classifier.hdf5\n",
      "19/19 [==============================] - 0s 5ms/step - loss: 0.5887 - accuracy: 0.7795 - val_loss: 0.3031 - val_accuracy: 0.9714\n",
      "Epoch 54/1000\n",
      " 1/19 [>.............................] - ETA: 0s - loss: 0.5814 - accuracy: 0.7656\n",
      "Epoch 54: saving model to model/keypoint_classifier\\keypoint_classifier.hdf5\n",
      "19/19 [==============================] - 0s 4ms/step - loss: 0.5886 - accuracy: 0.7725 - val_loss: 0.2966 - val_accuracy: 0.9727\n",
      "Epoch 55/1000\n",
      " 1/19 [>.............................] - ETA: 0s - loss: 0.4899 - accuracy: 0.8203\n",
      "Epoch 55: saving model to model/keypoint_classifier\\keypoint_classifier.hdf5\n",
      "19/19 [==============================] - 0s 4ms/step - loss: 0.5707 - accuracy: 0.7849 - val_loss: 0.2936 - val_accuracy: 0.9702\n",
      "Epoch 56/1000\n",
      " 1/19 [>.............................] - ETA: 0s - loss: 0.6925 - accuracy: 0.7344\n",
      "Epoch 56: saving model to model/keypoint_classifier\\keypoint_classifier.hdf5\n",
      "19/19 [==============================] - 0s 4ms/step - loss: 0.5737 - accuracy: 0.7799 - val_loss: 0.2918 - val_accuracy: 0.9727\n",
      "Epoch 57/1000\n",
      " 1/19 [>.............................] - ETA: 0s - loss: 0.7076 - accuracy: 0.6875\n",
      "Epoch 57: saving model to model/keypoint_classifier\\keypoint_classifier.hdf5\n",
      "19/19 [==============================] - 0s 4ms/step - loss: 0.6132 - accuracy: 0.7638 - val_loss: 0.2927 - val_accuracy: 0.9702\n",
      "Epoch 58/1000\n"
     ]
    },
    {
     "name": "stdout",
     "output_type": "stream",
     "text": [
      " 1/19 [>.............................] - ETA: 0s - loss: 0.5778 - accuracy: 0.7812\n",
      "Epoch 58: saving model to model/keypoint_classifier\\keypoint_classifier.hdf5\n",
      "19/19 [==============================] - 0s 4ms/step - loss: 0.6066 - accuracy: 0.7787 - val_loss: 0.2888 - val_accuracy: 0.9739\n",
      "Epoch 59/1000\n",
      " 1/19 [>.............................] - ETA: 0s - loss: 0.6123 - accuracy: 0.7656\n",
      "Epoch 59: saving model to model/keypoint_classifier\\keypoint_classifier.hdf5\n",
      "19/19 [==============================] - 0s 4ms/step - loss: 0.5872 - accuracy: 0.7779 - val_loss: 0.2921 - val_accuracy: 0.9714\n",
      "Epoch 60/1000\n",
      " 1/19 [>.............................] - ETA: 0s - loss: 0.6703 - accuracy: 0.7656\n",
      "Epoch 60: saving model to model/keypoint_classifier\\keypoint_classifier.hdf5\n",
      "19/19 [==============================] - 0s 4ms/step - loss: 0.5834 - accuracy: 0.7799 - val_loss: 0.2845 - val_accuracy: 0.9739\n",
      "Epoch 61/1000\n",
      " 1/19 [>.............................] - ETA: 0s - loss: 0.6770 - accuracy: 0.7109\n",
      "Epoch 61: saving model to model/keypoint_classifier\\keypoint_classifier.hdf5\n",
      "19/19 [==============================] - 0s 4ms/step - loss: 0.5661 - accuracy: 0.7866 - val_loss: 0.2730 - val_accuracy: 0.9702\n",
      "Epoch 62/1000\n",
      " 1/19 [>.............................] - ETA: 0s - loss: 0.5804 - accuracy: 0.7812\n",
      "Epoch 62: saving model to model/keypoint_classifier\\keypoint_classifier.hdf5\n",
      "19/19 [==============================] - 0s 4ms/step - loss: 0.5767 - accuracy: 0.7845 - val_loss: 0.2763 - val_accuracy: 0.9714\n",
      "Epoch 63/1000\n",
      " 1/19 [>.............................] - ETA: 0s - loss: 0.5948 - accuracy: 0.7812\n",
      "Epoch 63: saving model to model/keypoint_classifier\\keypoint_classifier.hdf5\n",
      "19/19 [==============================] - 0s 5ms/step - loss: 0.5872 - accuracy: 0.7733 - val_loss: 0.2734 - val_accuracy: 0.9727\n",
      "Epoch 64/1000\n",
      " 1/19 [>.............................] - ETA: 0s - loss: 0.6049 - accuracy: 0.7344\n",
      "Epoch 64: saving model to model/keypoint_classifier\\keypoint_classifier.hdf5\n",
      "19/19 [==============================] - 0s 5ms/step - loss: 0.5623 - accuracy: 0.7886 - val_loss: 0.2755 - val_accuracy: 0.9739\n",
      "Epoch 65/1000\n",
      " 1/19 [>.............................] - ETA: 0s - loss: 0.4736 - accuracy: 0.8359\n",
      "Epoch 65: saving model to model/keypoint_classifier\\keypoint_classifier.hdf5\n",
      "19/19 [==============================] - 0s 4ms/step - loss: 0.5563 - accuracy: 0.7928 - val_loss: 0.2687 - val_accuracy: 0.9727\n",
      "Epoch 66/1000\n",
      " 1/19 [>.............................] - ETA: 0s - loss: 0.4951 - accuracy: 0.7812\n",
      "Epoch 66: saving model to model/keypoint_classifier\\keypoint_classifier.hdf5\n",
      "19/19 [==============================] - 0s 5ms/step - loss: 0.5711 - accuracy: 0.7841 - val_loss: 0.2719 - val_accuracy: 0.9727\n",
      "Epoch 67/1000\n",
      " 1/19 [>.............................] - ETA: 0s - loss: 0.4576 - accuracy: 0.8359\n",
      "Epoch 67: saving model to model/keypoint_classifier\\keypoint_classifier.hdf5\n",
      "19/19 [==============================] - 0s 5ms/step - loss: 0.5739 - accuracy: 0.7812 - val_loss: 0.2742 - val_accuracy: 0.9727\n",
      "Epoch 68/1000\n",
      " 1/19 [>.............................] - ETA: 0s - loss: 0.5691 - accuracy: 0.7656\n",
      "Epoch 68: saving model to model/keypoint_classifier\\keypoint_classifier.hdf5\n",
      "19/19 [==============================] - 0s 5ms/step - loss: 0.5677 - accuracy: 0.7845 - val_loss: 0.2633 - val_accuracy: 0.9727\n",
      "Epoch 69/1000\n",
      " 1/19 [>.............................] - ETA: 0s - loss: 0.5522 - accuracy: 0.8125\n",
      "Epoch 69: saving model to model/keypoint_classifier\\keypoint_classifier.hdf5\n",
      "19/19 [==============================] - 0s 5ms/step - loss: 0.5501 - accuracy: 0.7949 - val_loss: 0.2613 - val_accuracy: 0.9727\n",
      "Epoch 70/1000\n",
      " 1/19 [>.............................] - ETA: 0s - loss: 0.5239 - accuracy: 0.8047\n",
      "Epoch 70: saving model to model/keypoint_classifier\\keypoint_classifier.hdf5\n",
      "19/19 [==============================] - 0s 4ms/step - loss: 0.5781 - accuracy: 0.7775 - val_loss: 0.2623 - val_accuracy: 0.9727\n",
      "Epoch 71/1000\n",
      " 1/19 [>.............................] - ETA: 0s - loss: 0.6635 - accuracy: 0.7188\n",
      "Epoch 71: saving model to model/keypoint_classifier\\keypoint_classifier.hdf5\n",
      "19/19 [==============================] - 0s 5ms/step - loss: 0.5585 - accuracy: 0.7820 - val_loss: 0.2628 - val_accuracy: 0.9714\n",
      "Epoch 72/1000\n",
      " 1/19 [>.............................] - ETA: 0s - loss: 0.4267 - accuracy: 0.8047\n",
      "Epoch 72: saving model to model/keypoint_classifier\\keypoint_classifier.hdf5\n",
      "19/19 [==============================] - 0s 5ms/step - loss: 0.5480 - accuracy: 0.7837 - val_loss: 0.2611 - val_accuracy: 0.9739\n",
      "Epoch 73/1000\n",
      " 1/19 [>.............................] - ETA: 0s - loss: 0.5082 - accuracy: 0.7891\n",
      "Epoch 73: saving model to model/keypoint_classifier\\keypoint_classifier.hdf5\n",
      "19/19 [==============================] - 0s 5ms/step - loss: 0.5457 - accuracy: 0.7907 - val_loss: 0.2636 - val_accuracy: 0.9739\n",
      "Epoch 74/1000\n",
      " 1/19 [>.............................] - ETA: 0s - loss: 0.5194 - accuracy: 0.8203\n",
      "Epoch 74: saving model to model/keypoint_classifier\\keypoint_classifier.hdf5\n",
      "19/19 [==============================] - 0s 5ms/step - loss: 0.5500 - accuracy: 0.7878 - val_loss: 0.2612 - val_accuracy: 0.9739\n",
      "Epoch 75/1000\n",
      " 1/19 [>.............................] - ETA: 0s - loss: 0.4792 - accuracy: 0.7891\n",
      "Epoch 75: saving model to model/keypoint_classifier\\keypoint_classifier.hdf5\n",
      "19/19 [==============================] - 0s 5ms/step - loss: 0.5281 - accuracy: 0.7944 - val_loss: 0.2522 - val_accuracy: 0.9739\n",
      "Epoch 76/1000\n",
      " 1/19 [>.............................] - ETA: 0s - loss: 0.4313 - accuracy: 0.8281\n",
      "Epoch 76: saving model to model/keypoint_classifier\\keypoint_classifier.hdf5\n",
      "19/19 [==============================] - 0s 4ms/step - loss: 0.5347 - accuracy: 0.8027 - val_loss: 0.2471 - val_accuracy: 0.9727\n",
      "Epoch 77/1000\n",
      " 1/19 [>.............................] - ETA: 0s - loss: 0.5162 - accuracy: 0.7969\n",
      "Epoch 77: saving model to model/keypoint_classifier\\keypoint_classifier.hdf5\n",
      "19/19 [==============================] - 0s 4ms/step - loss: 0.5286 - accuracy: 0.8015 - val_loss: 0.2472 - val_accuracy: 0.9714\n",
      "Epoch 78/1000\n",
      " 1/19 [>.............................] - ETA: 0s - loss: 0.4202 - accuracy: 0.8750\n",
      "Epoch 78: saving model to model/keypoint_classifier\\keypoint_classifier.hdf5\n",
      "19/19 [==============================] - 0s 5ms/step - loss: 0.5529 - accuracy: 0.7845 - val_loss: 0.2453 - val_accuracy: 0.9727\n",
      "Epoch 79/1000\n",
      " 1/19 [>.............................] - ETA: 0s - loss: 0.4626 - accuracy: 0.7969\n",
      "Epoch 79: saving model to model/keypoint_classifier\\keypoint_classifier.hdf5\n",
      "19/19 [==============================] - 0s 4ms/step - loss: 0.5663 - accuracy: 0.7857 - val_loss: 0.2589 - val_accuracy: 0.9727\n",
      "Epoch 80/1000\n",
      " 1/19 [>.............................] - ETA: 0s - loss: 0.5063 - accuracy: 0.8125\n",
      "Epoch 80: saving model to model/keypoint_classifier\\keypoint_classifier.hdf5\n",
      "19/19 [==============================] - 0s 4ms/step - loss: 0.5321 - accuracy: 0.7986 - val_loss: 0.2483 - val_accuracy: 0.9727\n",
      "Epoch 81/1000\n",
      " 1/19 [>.............................] - ETA: 0s - loss: 0.4870 - accuracy: 0.8203\n",
      "Epoch 81: saving model to model/keypoint_classifier\\keypoint_classifier.hdf5\n",
      "19/19 [==============================] - 0s 5ms/step - loss: 0.5264 - accuracy: 0.7920 - val_loss: 0.2457 - val_accuracy: 0.9739\n",
      "Epoch 82/1000\n",
      " 1/19 [>.............................] - ETA: 0s - loss: 0.6013 - accuracy: 0.7969\n",
      "Epoch 82: saving model to model/keypoint_classifier\\keypoint_classifier.hdf5\n",
      "19/19 [==============================] - 0s 5ms/step - loss: 0.5392 - accuracy: 0.7899 - val_loss: 0.2503 - val_accuracy: 0.9739\n",
      "Epoch 83/1000\n",
      " 1/19 [>.............................] - ETA: 0s - loss: 0.6375 - accuracy: 0.7578\n",
      "Epoch 83: saving model to model/keypoint_classifier\\keypoint_classifier.hdf5\n",
      "19/19 [==============================] - 0s 4ms/step - loss: 0.5381 - accuracy: 0.8036 - val_loss: 0.2475 - val_accuracy: 0.9727\n",
      "Epoch 84/1000\n",
      " 1/19 [>.............................] - ETA: 0s - loss: 0.5132 - accuracy: 0.8281\n",
      "Epoch 84: saving model to model/keypoint_classifier\\keypoint_classifier.hdf5\n",
      "19/19 [==============================] - 0s 4ms/step - loss: 0.5294 - accuracy: 0.8123 - val_loss: 0.2475 - val_accuracy: 0.9739\n",
      "Epoch 85/1000\n"
     ]
    },
    {
     "name": "stdout",
     "output_type": "stream",
     "text": [
      " 1/19 [>.............................] - ETA: 0s - loss: 0.3939 - accuracy: 0.8359\n",
      "Epoch 85: saving model to model/keypoint_classifier\\keypoint_classifier.hdf5\n",
      "19/19 [==============================] - 0s 4ms/step - loss: 0.5354 - accuracy: 0.7973 - val_loss: 0.2469 - val_accuracy: 0.9739\n",
      "Epoch 86/1000\n",
      " 1/19 [>.............................] - ETA: 0s - loss: 0.5547 - accuracy: 0.7656\n",
      "Epoch 86: saving model to model/keypoint_classifier\\keypoint_classifier.hdf5\n",
      "19/19 [==============================] - 0s 4ms/step - loss: 0.5422 - accuracy: 0.7961 - val_loss: 0.2448 - val_accuracy: 0.9727\n",
      "Epoch 87/1000\n",
      " 1/19 [>.............................] - ETA: 0s - loss: 0.4746 - accuracy: 0.8516\n",
      "Epoch 87: saving model to model/keypoint_classifier\\keypoint_classifier.hdf5\n",
      "19/19 [==============================] - 0s 4ms/step - loss: 0.5282 - accuracy: 0.7940 - val_loss: 0.2407 - val_accuracy: 0.9714\n",
      "Epoch 88/1000\n",
      " 1/19 [>.............................] - ETA: 0s - loss: 0.5061 - accuracy: 0.8281\n",
      "Epoch 88: saving model to model/keypoint_classifier\\keypoint_classifier.hdf5\n",
      "19/19 [==============================] - 0s 4ms/step - loss: 0.5194 - accuracy: 0.8061 - val_loss: 0.2364 - val_accuracy: 0.9727\n",
      "Epoch 89/1000\n",
      " 1/19 [>.............................] - ETA: 0s - loss: 0.4825 - accuracy: 0.7969\n",
      "Epoch 89: saving model to model/keypoint_classifier\\keypoint_classifier.hdf5\n",
      "19/19 [==============================] - 0s 5ms/step - loss: 0.5153 - accuracy: 0.7940 - val_loss: 0.2489 - val_accuracy: 0.9739\n",
      "Epoch 90/1000\n",
      " 1/19 [>.............................] - ETA: 0s - loss: 0.5071 - accuracy: 0.8203\n",
      "Epoch 90: saving model to model/keypoint_classifier\\keypoint_classifier.hdf5\n",
      "19/19 [==============================] - 0s 5ms/step - loss: 0.5186 - accuracy: 0.8110 - val_loss: 0.2489 - val_accuracy: 0.9714\n",
      "Epoch 91/1000\n",
      " 1/19 [>.............................] - ETA: 0s - loss: 0.5880 - accuracy: 0.7812\n",
      "Epoch 91: saving model to model/keypoint_classifier\\keypoint_classifier.hdf5\n",
      "19/19 [==============================] - 0s 4ms/step - loss: 0.5411 - accuracy: 0.8011 - val_loss: 0.2459 - val_accuracy: 0.9714\n",
      "Epoch 92/1000\n",
      " 1/19 [>.............................] - ETA: 0s - loss: 0.7430 - accuracy: 0.7266\n",
      "Epoch 92: saving model to model/keypoint_classifier\\keypoint_classifier.hdf5\n",
      "19/19 [==============================] - 0s 4ms/step - loss: 0.5347 - accuracy: 0.7965 - val_loss: 0.2407 - val_accuracy: 0.9714\n",
      "Epoch 93/1000\n",
      " 1/19 [>.............................] - ETA: 0s - loss: 0.5179 - accuracy: 0.8125\n",
      "Epoch 93: saving model to model/keypoint_classifier\\keypoint_classifier.hdf5\n",
      "19/19 [==============================] - 0s 4ms/step - loss: 0.5418 - accuracy: 0.8048 - val_loss: 0.2408 - val_accuracy: 0.9739\n",
      "Epoch 94/1000\n",
      " 1/19 [>.............................] - ETA: 0s - loss: 0.5515 - accuracy: 0.7656\n",
      "Epoch 94: saving model to model/keypoint_classifier\\keypoint_classifier.hdf5\n",
      "19/19 [==============================] - 0s 4ms/step - loss: 0.5172 - accuracy: 0.8065 - val_loss: 0.2363 - val_accuracy: 0.9727\n",
      "Epoch 95/1000\n",
      " 1/19 [>.............................] - ETA: 0s - loss: 0.5662 - accuracy: 0.7500\n",
      "Epoch 95: saving model to model/keypoint_classifier\\keypoint_classifier.hdf5\n",
      "19/19 [==============================] - 0s 5ms/step - loss: 0.5264 - accuracy: 0.8011 - val_loss: 0.2389 - val_accuracy: 0.9739\n",
      "Epoch 96/1000\n",
      " 1/19 [>.............................] - ETA: 0s - loss: 0.5102 - accuracy: 0.7969\n",
      "Epoch 96: saving model to model/keypoint_classifier\\keypoint_classifier.hdf5\n",
      "19/19 [==============================] - 0s 5ms/step - loss: 0.5258 - accuracy: 0.8073 - val_loss: 0.2368 - val_accuracy: 0.9727\n",
      "Epoch 97/1000\n",
      " 1/19 [>.............................] - ETA: 0s - loss: 0.5558 - accuracy: 0.8047\n",
      "Epoch 97: saving model to model/keypoint_classifier\\keypoint_classifier.hdf5\n",
      "19/19 [==============================] - 0s 5ms/step - loss: 0.5449 - accuracy: 0.7928 - val_loss: 0.2390 - val_accuracy: 0.9739\n",
      "Epoch 98/1000\n",
      " 1/19 [>.............................] - ETA: 0s - loss: 0.4713 - accuracy: 0.8438\n",
      "Epoch 98: saving model to model/keypoint_classifier\\keypoint_classifier.hdf5\n",
      "19/19 [==============================] - 0s 4ms/step - loss: 0.5045 - accuracy: 0.8148 - val_loss: 0.2345 - val_accuracy: 0.9739\n",
      "Epoch 99/1000\n",
      " 1/19 [>.............................] - ETA: 0s - loss: 0.5214 - accuracy: 0.8125\n",
      "Epoch 99: saving model to model/keypoint_classifier\\keypoint_classifier.hdf5\n",
      "19/19 [==============================] - 0s 4ms/step - loss: 0.5214 - accuracy: 0.8056 - val_loss: 0.2441 - val_accuracy: 0.9727\n",
      "Epoch 100/1000\n",
      " 1/19 [>.............................] - ETA: 0s - loss: 0.4194 - accuracy: 0.8438\n",
      "Epoch 100: saving model to model/keypoint_classifier\\keypoint_classifier.hdf5\n",
      "19/19 [==============================] - 0s 5ms/step - loss: 0.5033 - accuracy: 0.8114 - val_loss: 0.2369 - val_accuracy: 0.9727\n",
      "Epoch 101/1000\n",
      " 1/19 [>.............................] - ETA: 0s - loss: 0.5658 - accuracy: 0.7266\n",
      "Epoch 101: saving model to model/keypoint_classifier\\keypoint_classifier.hdf5\n",
      "19/19 [==============================] - 0s 4ms/step - loss: 0.5314 - accuracy: 0.8027 - val_loss: 0.2297 - val_accuracy: 0.9752\n",
      "Epoch 102/1000\n",
      " 1/19 [>.............................] - ETA: 0s - loss: 0.5987 - accuracy: 0.8281\n",
      "Epoch 102: saving model to model/keypoint_classifier\\keypoint_classifier.hdf5\n",
      "19/19 [==============================] - 0s 5ms/step - loss: 0.5368 - accuracy: 0.7957 - val_loss: 0.2310 - val_accuracy: 0.9752\n",
      "Epoch 103/1000\n",
      " 1/19 [>.............................] - ETA: 0s - loss: 0.4710 - accuracy: 0.7891\n",
      "Epoch 103: saving model to model/keypoint_classifier\\keypoint_classifier.hdf5\n",
      "19/19 [==============================] - 0s 5ms/step - loss: 0.5169 - accuracy: 0.8065 - val_loss: 0.2335 - val_accuracy: 0.9739\n",
      "Epoch 104/1000\n",
      " 1/19 [>.............................] - ETA: 0s - loss: 0.4210 - accuracy: 0.8750\n",
      "Epoch 104: saving model to model/keypoint_classifier\\keypoint_classifier.hdf5\n",
      "19/19 [==============================] - 0s 4ms/step - loss: 0.5175 - accuracy: 0.8090 - val_loss: 0.2380 - val_accuracy: 0.9752\n",
      "Epoch 105/1000\n",
      " 1/19 [>.............................] - ETA: 0s - loss: 0.4994 - accuracy: 0.8047\n",
      "Epoch 105: saving model to model/keypoint_classifier\\keypoint_classifier.hdf5\n",
      "19/19 [==============================] - 0s 4ms/step - loss: 0.5314 - accuracy: 0.7932 - val_loss: 0.2422 - val_accuracy: 0.9727\n",
      "Epoch 106/1000\n",
      " 1/19 [>.............................] - ETA: 0s - loss: 0.5333 - accuracy: 0.7969\n",
      "Epoch 106: saving model to model/keypoint_classifier\\keypoint_classifier.hdf5\n",
      "19/19 [==============================] - 0s 4ms/step - loss: 0.5342 - accuracy: 0.8044 - val_loss: 0.2385 - val_accuracy: 0.9727\n",
      "Epoch 107/1000\n",
      " 1/19 [>.............................] - ETA: 0s - loss: 0.4630 - accuracy: 0.8203\n",
      "Epoch 107: saving model to model/keypoint_classifier\\keypoint_classifier.hdf5\n",
      "19/19 [==============================] - 0s 4ms/step - loss: 0.5273 - accuracy: 0.7998 - val_loss: 0.2393 - val_accuracy: 0.9739\n",
      "Epoch 108/1000\n",
      " 1/19 [>.............................] - ETA: 0s - loss: 0.5146 - accuracy: 0.8125\n",
      "Epoch 108: saving model to model/keypoint_classifier\\keypoint_classifier.hdf5\n",
      "19/19 [==============================] - 0s 4ms/step - loss: 0.5098 - accuracy: 0.8069 - val_loss: 0.2312 - val_accuracy: 0.9739\n",
      "Epoch 109/1000\n",
      " 1/19 [>.............................] - ETA: 0s - loss: 0.3791 - accuracy: 0.8438\n",
      "Epoch 109: saving model to model/keypoint_classifier\\keypoint_classifier.hdf5\n",
      "19/19 [==============================] - 0s 4ms/step - loss: 0.5320 - accuracy: 0.7924 - val_loss: 0.2318 - val_accuracy: 0.9739\n",
      "Epoch 110/1000\n",
      " 1/19 [>.............................] - ETA: 0s - loss: 0.5086 - accuracy: 0.7891\n",
      "Epoch 110: saving model to model/keypoint_classifier\\keypoint_classifier.hdf5\n",
      "19/19 [==============================] - 0s 4ms/step - loss: 0.5269 - accuracy: 0.8156 - val_loss: 0.2370 - val_accuracy: 0.9739\n",
      "Epoch 111/1000\n",
      " 1/19 [>.............................] - ETA: 0s - loss: 0.5278 - accuracy: 0.8125\n",
      "Epoch 111: saving model to model/keypoint_classifier\\keypoint_classifier.hdf5\n",
      "19/19 [==============================] - 0s 4ms/step - loss: 0.5319 - accuracy: 0.7998 - val_loss: 0.2361 - val_accuracy: 0.9739\n",
      "Epoch 112/1000\n"
     ]
    },
    {
     "name": "stdout",
     "output_type": "stream",
     "text": [
      " 1/19 [>.............................] - ETA: 0s - loss: 0.6014 - accuracy: 0.8047\n",
      "Epoch 112: saving model to model/keypoint_classifier\\keypoint_classifier.hdf5\n",
      "19/19 [==============================] - 0s 4ms/step - loss: 0.5045 - accuracy: 0.8106 - val_loss: 0.2314 - val_accuracy: 0.9739\n",
      "Epoch 113/1000\n",
      " 1/19 [>.............................] - ETA: 0s - loss: 0.4975 - accuracy: 0.8281\n",
      "Epoch 113: saving model to model/keypoint_classifier\\keypoint_classifier.hdf5\n",
      "19/19 [==============================] - 0s 4ms/step - loss: 0.4974 - accuracy: 0.8098 - val_loss: 0.2249 - val_accuracy: 0.9752\n",
      "Epoch 114/1000\n",
      " 1/19 [>.............................] - ETA: 0s - loss: 0.5653 - accuracy: 0.7734\n",
      "Epoch 114: saving model to model/keypoint_classifier\\keypoint_classifier.hdf5\n",
      "19/19 [==============================] - 0s 4ms/step - loss: 0.4967 - accuracy: 0.8114 - val_loss: 0.2230 - val_accuracy: 0.9727\n",
      "Epoch 115/1000\n",
      " 1/19 [>.............................] - ETA: 0s - loss: 0.6094 - accuracy: 0.8047\n",
      "Epoch 115: saving model to model/keypoint_classifier\\keypoint_classifier.hdf5\n",
      "19/19 [==============================] - 0s 4ms/step - loss: 0.5005 - accuracy: 0.8114 - val_loss: 0.2270 - val_accuracy: 0.9727\n",
      "Epoch 116/1000\n",
      " 1/19 [>.............................] - ETA: 0s - loss: 0.5258 - accuracy: 0.8125\n",
      "Epoch 116: saving model to model/keypoint_classifier\\keypoint_classifier.hdf5\n",
      "19/19 [==============================] - 0s 4ms/step - loss: 0.4802 - accuracy: 0.8251 - val_loss: 0.2232 - val_accuracy: 0.9727\n",
      "Epoch 117/1000\n",
      " 1/19 [>.............................] - ETA: 0s - loss: 0.4901 - accuracy: 0.8516\n",
      "Epoch 117: saving model to model/keypoint_classifier\\keypoint_classifier.hdf5\n",
      "19/19 [==============================] - 0s 4ms/step - loss: 0.5105 - accuracy: 0.8164 - val_loss: 0.2214 - val_accuracy: 0.9727\n",
      "Epoch 118/1000\n",
      " 1/19 [>.............................] - ETA: 0s - loss: 0.5232 - accuracy: 0.8047\n",
      "Epoch 118: saving model to model/keypoint_classifier\\keypoint_classifier.hdf5\n",
      "19/19 [==============================] - 0s 4ms/step - loss: 0.5041 - accuracy: 0.8052 - val_loss: 0.2159 - val_accuracy: 0.9727\n",
      "Epoch 119/1000\n",
      " 1/19 [>.............................] - ETA: 0s - loss: 0.5839 - accuracy: 0.7734\n",
      "Epoch 119: saving model to model/keypoint_classifier\\keypoint_classifier.hdf5\n",
      "19/19 [==============================] - 0s 4ms/step - loss: 0.4754 - accuracy: 0.8268 - val_loss: 0.2164 - val_accuracy: 0.9727\n",
      "Epoch 120/1000\n",
      " 1/19 [>.............................] - ETA: 0s - loss: 0.5183 - accuracy: 0.8125\n",
      "Epoch 120: saving model to model/keypoint_classifier\\keypoint_classifier.hdf5\n",
      "19/19 [==============================] - 0s 5ms/step - loss: 0.4750 - accuracy: 0.8297 - val_loss: 0.2172 - val_accuracy: 0.9727\n",
      "Epoch 121/1000\n",
      " 1/19 [>.............................] - ETA: 0s - loss: 0.4482 - accuracy: 0.8516\n",
      "Epoch 121: saving model to model/keypoint_classifier\\keypoint_classifier.hdf5\n",
      "19/19 [==============================] - 0s 4ms/step - loss: 0.4843 - accuracy: 0.8268 - val_loss: 0.2138 - val_accuracy: 0.9727\n",
      "Epoch 122/1000\n",
      " 1/19 [>.............................] - ETA: 0s - loss: 0.4332 - accuracy: 0.8516\n",
      "Epoch 122: saving model to model/keypoint_classifier\\keypoint_classifier.hdf5\n",
      "19/19 [==============================] - 0s 4ms/step - loss: 0.5064 - accuracy: 0.8061 - val_loss: 0.2172 - val_accuracy: 0.9739\n",
      "Epoch 123/1000\n",
      " 1/19 [>.............................] - ETA: 0s - loss: 0.3780 - accuracy: 0.8516\n",
      "Epoch 123: saving model to model/keypoint_classifier\\keypoint_classifier.hdf5\n",
      "19/19 [==============================] - 0s 4ms/step - loss: 0.4992 - accuracy: 0.8193 - val_loss: 0.2180 - val_accuracy: 0.9739\n",
      "Epoch 124/1000\n",
      " 1/19 [>.............................] - ETA: 0s - loss: 0.5446 - accuracy: 0.8203\n",
      "Epoch 124: saving model to model/keypoint_classifier\\keypoint_classifier.hdf5\n",
      "19/19 [==============================] - 0s 4ms/step - loss: 0.4763 - accuracy: 0.8214 - val_loss: 0.2233 - val_accuracy: 0.9739\n",
      "Epoch 125/1000\n",
      " 1/19 [>.............................] - ETA: 0s - loss: 0.4826 - accuracy: 0.8359\n",
      "Epoch 125: saving model to model/keypoint_classifier\\keypoint_classifier.hdf5\n",
      "19/19 [==============================] - 0s 4ms/step - loss: 0.4842 - accuracy: 0.8201 - val_loss: 0.2137 - val_accuracy: 0.9739\n",
      "Epoch 126/1000\n",
      " 1/19 [>.............................] - ETA: 0s - loss: 0.4875 - accuracy: 0.8516\n",
      "Epoch 126: saving model to model/keypoint_classifier\\keypoint_classifier.hdf5\n",
      "19/19 [==============================] - 0s 4ms/step - loss: 0.4903 - accuracy: 0.8206 - val_loss: 0.2154 - val_accuracy: 0.9727\n",
      "Epoch 127/1000\n",
      " 1/19 [>.............................] - ETA: 0s - loss: 0.5513 - accuracy: 0.7969\n",
      "Epoch 127: saving model to model/keypoint_classifier\\keypoint_classifier.hdf5\n",
      "19/19 [==============================] - 0s 4ms/step - loss: 0.4932 - accuracy: 0.8210 - val_loss: 0.2152 - val_accuracy: 0.9727\n",
      "Epoch 128/1000\n",
      " 1/19 [>.............................] - ETA: 0s - loss: 0.4394 - accuracy: 0.8672\n",
      "Epoch 128: saving model to model/keypoint_classifier\\keypoint_classifier.hdf5\n",
      "19/19 [==============================] - 0s 4ms/step - loss: 0.4885 - accuracy: 0.8197 - val_loss: 0.2136 - val_accuracy: 0.9739\n",
      "Epoch 129/1000\n",
      " 1/19 [>.............................] - ETA: 0s - loss: 0.5435 - accuracy: 0.7656\n",
      "Epoch 129: saving model to model/keypoint_classifier\\keypoint_classifier.hdf5\n",
      "19/19 [==============================] - 0s 4ms/step - loss: 0.4938 - accuracy: 0.8222 - val_loss: 0.2116 - val_accuracy: 0.9739\n",
      "Epoch 130/1000\n",
      " 1/19 [>.............................] - ETA: 0s - loss: 0.5398 - accuracy: 0.7734\n",
      "Epoch 130: saving model to model/keypoint_classifier\\keypoint_classifier.hdf5\n",
      "19/19 [==============================] - 0s 5ms/step - loss: 0.4711 - accuracy: 0.8297 - val_loss: 0.2120 - val_accuracy: 0.9739\n",
      "Epoch 131/1000\n",
      " 1/19 [>.............................] - ETA: 0s - loss: 0.4926 - accuracy: 0.7812\n",
      "Epoch 131: saving model to model/keypoint_classifier\\keypoint_classifier.hdf5\n",
      "19/19 [==============================] - 0s 5ms/step - loss: 0.5032 - accuracy: 0.8177 - val_loss: 0.2124 - val_accuracy: 0.9739\n",
      "Epoch 132/1000\n",
      " 1/19 [>.............................] - ETA: 0s - loss: 0.5991 - accuracy: 0.7734\n",
      "Epoch 132: saving model to model/keypoint_classifier\\keypoint_classifier.hdf5\n",
      "19/19 [==============================] - 0s 5ms/step - loss: 0.5147 - accuracy: 0.8139 - val_loss: 0.2178 - val_accuracy: 0.9739\n",
      "Epoch 133/1000\n",
      " 1/19 [>.............................] - ETA: 0s - loss: 0.5218 - accuracy: 0.7812\n",
      "Epoch 133: saving model to model/keypoint_classifier\\keypoint_classifier.hdf5\n",
      "19/19 [==============================] - 0s 4ms/step - loss: 0.4834 - accuracy: 0.8210 - val_loss: 0.2147 - val_accuracy: 0.9739\n",
      "Epoch 134/1000\n",
      " 1/19 [>.............................] - ETA: 0s - loss: 0.4113 - accuracy: 0.8672\n",
      "Epoch 134: saving model to model/keypoint_classifier\\keypoint_classifier.hdf5\n",
      "19/19 [==============================] - 0s 4ms/step - loss: 0.4730 - accuracy: 0.8268 - val_loss: 0.2132 - val_accuracy: 0.9739\n",
      "Epoch 135/1000\n",
      " 1/19 [>.............................] - ETA: 0s - loss: 0.4419 - accuracy: 0.8750\n",
      "Epoch 135: saving model to model/keypoint_classifier\\keypoint_classifier.hdf5\n",
      "19/19 [==============================] - 0s 4ms/step - loss: 0.4716 - accuracy: 0.8297 - val_loss: 0.2044 - val_accuracy: 0.9739\n",
      "Epoch 136/1000\n",
      " 1/19 [>.............................] - ETA: 0s - loss: 0.3554 - accuracy: 0.8828\n",
      "Epoch 136: saving model to model/keypoint_classifier\\keypoint_classifier.hdf5\n",
      "19/19 [==============================] - 0s 4ms/step - loss: 0.4733 - accuracy: 0.8255 - val_loss: 0.2084 - val_accuracy: 0.9739\n",
      "Epoch 137/1000\n",
      " 1/19 [>.............................] - ETA: 0s - loss: 0.4034 - accuracy: 0.8359\n",
      "Epoch 137: saving model to model/keypoint_classifier\\keypoint_classifier.hdf5\n",
      "19/19 [==============================] - 0s 4ms/step - loss: 0.4824 - accuracy: 0.8330 - val_loss: 0.2155 - val_accuracy: 0.9739\n",
      "Epoch 138/1000\n",
      " 1/19 [>.............................] - ETA: 0s - loss: 0.4014 - accuracy: 0.8516\n",
      "Epoch 138: saving model to model/keypoint_classifier\\keypoint_classifier.hdf5\n",
      "19/19 [==============================] - 0s 4ms/step - loss: 0.4765 - accuracy: 0.8197 - val_loss: 0.2090 - val_accuracy: 0.9739\n"
     ]
    },
    {
     "name": "stdout",
     "output_type": "stream",
     "text": [
      "Epoch 139/1000\n",
      " 1/19 [>.............................] - ETA: 0s - loss: 0.5803 - accuracy: 0.8047\n",
      "Epoch 139: saving model to model/keypoint_classifier\\keypoint_classifier.hdf5\n",
      "19/19 [==============================] - 0s 4ms/step - loss: 0.4802 - accuracy: 0.8264 - val_loss: 0.2049 - val_accuracy: 0.9739\n",
      "Epoch 140/1000\n",
      " 1/19 [>.............................] - ETA: 0s - loss: 0.4865 - accuracy: 0.7969\n",
      "Epoch 140: saving model to model/keypoint_classifier\\keypoint_classifier.hdf5\n",
      "19/19 [==============================] - 0s 4ms/step - loss: 0.5137 - accuracy: 0.8119 - val_loss: 0.2090 - val_accuracy: 0.9739\n",
      "Epoch 141/1000\n",
      " 1/19 [>.............................] - ETA: 0s - loss: 0.4501 - accuracy: 0.8438\n",
      "Epoch 141: saving model to model/keypoint_classifier\\keypoint_classifier.hdf5\n",
      "19/19 [==============================] - 0s 4ms/step - loss: 0.4777 - accuracy: 0.8301 - val_loss: 0.2161 - val_accuracy: 0.9739\n",
      "Epoch 142/1000\n",
      " 1/19 [>.............................] - ETA: 0s - loss: 0.4507 - accuracy: 0.8906\n",
      "Epoch 142: saving model to model/keypoint_classifier\\keypoint_classifier.hdf5\n",
      "19/19 [==============================] - 0s 4ms/step - loss: 0.4896 - accuracy: 0.8135 - val_loss: 0.2081 - val_accuracy: 0.9739\n",
      "Epoch 143/1000\n",
      " 1/19 [>.............................] - ETA: 0s - loss: 0.4640 - accuracy: 0.8359\n",
      "Epoch 143: saving model to model/keypoint_classifier\\keypoint_classifier.hdf5\n",
      "19/19 [==============================] - 0s 4ms/step - loss: 0.4650 - accuracy: 0.8268 - val_loss: 0.2098 - val_accuracy: 0.9739\n",
      "Epoch 144/1000\n",
      " 1/19 [>.............................] - ETA: 0s - loss: 0.5921 - accuracy: 0.8203\n",
      "Epoch 144: saving model to model/keypoint_classifier\\keypoint_classifier.hdf5\n",
      "19/19 [==============================] - 0s 5ms/step - loss: 0.4786 - accuracy: 0.8226 - val_loss: 0.2071 - val_accuracy: 0.9739\n",
      "Epoch 145/1000\n",
      " 1/19 [>.............................] - ETA: 0s - loss: 0.5114 - accuracy: 0.8281\n",
      "Epoch 145: saving model to model/keypoint_classifier\\keypoint_classifier.hdf5\n",
      "19/19 [==============================] - 0s 5ms/step - loss: 0.4697 - accuracy: 0.8342 - val_loss: 0.2108 - val_accuracy: 0.9739\n",
      "Epoch 146/1000\n",
      " 1/19 [>.............................] - ETA: 0s - loss: 0.5104 - accuracy: 0.8203\n",
      "Epoch 146: saving model to model/keypoint_classifier\\keypoint_classifier.hdf5\n",
      "19/19 [==============================] - 0s 4ms/step - loss: 0.4716 - accuracy: 0.8293 - val_loss: 0.2103 - val_accuracy: 0.9739\n",
      "Epoch 147/1000\n",
      " 1/19 [>.............................] - ETA: 0s - loss: 0.3250 - accuracy: 0.8750\n",
      "Epoch 147: saving model to model/keypoint_classifier\\keypoint_classifier.hdf5\n",
      "19/19 [==============================] - 0s 4ms/step - loss: 0.4665 - accuracy: 0.8259 - val_loss: 0.2059 - val_accuracy: 0.9739\n",
      "Epoch 148/1000\n",
      " 1/19 [>.............................] - ETA: 0s - loss: 0.4342 - accuracy: 0.8359\n",
      "Epoch 148: saving model to model/keypoint_classifier\\keypoint_classifier.hdf5\n",
      "19/19 [==============================] - 0s 4ms/step - loss: 0.4744 - accuracy: 0.8268 - val_loss: 0.2163 - val_accuracy: 0.9739\n",
      "Epoch 149/1000\n",
      " 1/19 [>.............................] - ETA: 0s - loss: 0.4714 - accuracy: 0.8359\n",
      "Epoch 149: saving model to model/keypoint_classifier\\keypoint_classifier.hdf5\n",
      "19/19 [==============================] - 0s 5ms/step - loss: 0.4621 - accuracy: 0.8359 - val_loss: 0.2072 - val_accuracy: 0.9739\n",
      "Epoch 150/1000\n",
      " 1/19 [>.............................] - ETA: 0s - loss: 0.4693 - accuracy: 0.8828\n",
      "Epoch 150: saving model to model/keypoint_classifier\\keypoint_classifier.hdf5\n",
      "19/19 [==============================] - 0s 4ms/step - loss: 0.4531 - accuracy: 0.8359 - val_loss: 0.1950 - val_accuracy: 0.9739\n",
      "Epoch 151/1000\n",
      " 1/19 [>.............................] - ETA: 0s - loss: 0.5409 - accuracy: 0.8125\n",
      "Epoch 151: saving model to model/keypoint_classifier\\keypoint_classifier.hdf5\n",
      "19/19 [==============================] - 0s 5ms/step - loss: 0.4957 - accuracy: 0.8148 - val_loss: 0.1988 - val_accuracy: 0.9739\n",
      "Epoch 152/1000\n",
      " 1/19 [>.............................] - ETA: 0s - loss: 0.5013 - accuracy: 0.7891\n",
      "Epoch 152: saving model to model/keypoint_classifier\\keypoint_classifier.hdf5\n",
      "19/19 [==============================] - 0s 5ms/step - loss: 0.4709 - accuracy: 0.8226 - val_loss: 0.2057 - val_accuracy: 0.9739\n",
      "Epoch 153/1000\n",
      " 1/19 [>.............................] - ETA: 0s - loss: 0.4914 - accuracy: 0.8281\n",
      "Epoch 153: saving model to model/keypoint_classifier\\keypoint_classifier.hdf5\n",
      "19/19 [==============================] - 0s 5ms/step - loss: 0.4408 - accuracy: 0.8421 - val_loss: 0.2069 - val_accuracy: 0.9739\n",
      "Epoch 154/1000\n",
      " 1/19 [>.............................] - ETA: 0s - loss: 0.4689 - accuracy: 0.8203\n",
      "Epoch 154: saving model to model/keypoint_classifier\\keypoint_classifier.hdf5\n",
      "19/19 [==============================] - 0s 5ms/step - loss: 0.4803 - accuracy: 0.8268 - val_loss: 0.2045 - val_accuracy: 0.9739\n",
      "Epoch 155/1000\n",
      " 1/19 [>.............................] - ETA: 0s - loss: 0.3736 - accuracy: 0.8516\n",
      "Epoch 155: saving model to model/keypoint_classifier\\keypoint_classifier.hdf5\n",
      "19/19 [==============================] - 0s 5ms/step - loss: 0.4814 - accuracy: 0.8226 - val_loss: 0.2058 - val_accuracy: 0.9739\n",
      "Epoch 156/1000\n",
      " 1/19 [>.............................] - ETA: 0s - loss: 0.4428 - accuracy: 0.8438\n",
      "Epoch 156: saving model to model/keypoint_classifier\\keypoint_classifier.hdf5\n",
      "19/19 [==============================] - 0s 4ms/step - loss: 0.4543 - accuracy: 0.8305 - val_loss: 0.2099 - val_accuracy: 0.9739\n",
      "Epoch 157/1000\n",
      " 1/19 [>.............................] - ETA: 0s - loss: 0.4785 - accuracy: 0.8281\n",
      "Epoch 157: saving model to model/keypoint_classifier\\keypoint_classifier.hdf5\n",
      "19/19 [==============================] - 0s 5ms/step - loss: 0.4481 - accuracy: 0.8375 - val_loss: 0.2029 - val_accuracy: 0.9739\n",
      "Epoch 158/1000\n",
      " 1/19 [>.............................] - ETA: 0s - loss: 0.4086 - accuracy: 0.8594\n",
      "Epoch 158: saving model to model/keypoint_classifier\\keypoint_classifier.hdf5\n",
      "19/19 [==============================] - 0s 5ms/step - loss: 0.4643 - accuracy: 0.8330 - val_loss: 0.1968 - val_accuracy: 0.9739\n",
      "Epoch 159/1000\n",
      " 1/19 [>.............................] - ETA: 0s - loss: 0.5106 - accuracy: 0.8281\n",
      "Epoch 159: saving model to model/keypoint_classifier\\keypoint_classifier.hdf5\n",
      "19/19 [==============================] - 0s 5ms/step - loss: 0.4765 - accuracy: 0.8301 - val_loss: 0.2035 - val_accuracy: 0.9739\n",
      "Epoch 160/1000\n",
      " 1/19 [>.............................] - ETA: 0s - loss: 0.3948 - accuracy: 0.8594\n",
      "Epoch 160: saving model to model/keypoint_classifier\\keypoint_classifier.hdf5\n",
      "19/19 [==============================] - 0s 5ms/step - loss: 0.4710 - accuracy: 0.8380 - val_loss: 0.2051 - val_accuracy: 0.9739\n",
      "Epoch 161/1000\n",
      " 1/19 [>.............................] - ETA: 0s - loss: 0.4454 - accuracy: 0.8281\n",
      "Epoch 161: saving model to model/keypoint_classifier\\keypoint_classifier.hdf5\n",
      "19/19 [==============================] - 0s 4ms/step - loss: 0.4736 - accuracy: 0.8276 - val_loss: 0.2069 - val_accuracy: 0.9739\n",
      "Epoch 162/1000\n",
      " 1/19 [>.............................] - ETA: 0s - loss: 0.5248 - accuracy: 0.8125\n",
      "Epoch 162: saving model to model/keypoint_classifier\\keypoint_classifier.hdf5\n",
      "19/19 [==============================] - 0s 5ms/step - loss: 0.4538 - accuracy: 0.8309 - val_loss: 0.2020 - val_accuracy: 0.9739\n",
      "Epoch 163/1000\n",
      " 1/19 [>.............................] - ETA: 0s - loss: 0.3910 - accuracy: 0.8672\n",
      "Epoch 163: saving model to model/keypoint_classifier\\keypoint_classifier.hdf5\n",
      "19/19 [==============================] - 0s 5ms/step - loss: 0.4636 - accuracy: 0.8417 - val_loss: 0.1967 - val_accuracy: 0.9739\n",
      "Epoch 164/1000\n",
      " 1/19 [>.............................] - ETA: 0s - loss: 0.4104 - accuracy: 0.8672\n",
      "Epoch 164: saving model to model/keypoint_classifier\\keypoint_classifier.hdf5\n",
      "19/19 [==============================] - 0s 4ms/step - loss: 0.4677 - accuracy: 0.8288 - val_loss: 0.1924 - val_accuracy: 0.9739\n",
      "Epoch 165/1000\n",
      " 1/19 [>.............................] - ETA: 0s - loss: 0.5176 - accuracy: 0.8281\n",
      "Epoch 165: saving model to model/keypoint_classifier\\keypoint_classifier.hdf5\n",
      "19/19 [==============================] - 0s 5ms/step - loss: 0.4350 - accuracy: 0.8417 - val_loss: 0.1936 - val_accuracy: 0.9739\n"
     ]
    },
    {
     "name": "stdout",
     "output_type": "stream",
     "text": [
      "Epoch 166/1000\n",
      " 1/19 [>.............................] - ETA: 0s - loss: 0.4940 - accuracy: 0.7734\n",
      "Epoch 166: saving model to model/keypoint_classifier\\keypoint_classifier.hdf5\n",
      "19/19 [==============================] - 0s 4ms/step - loss: 0.4577 - accuracy: 0.8243 - val_loss: 0.1961 - val_accuracy: 0.9739\n",
      "Epoch 167/1000\n",
      " 1/19 [>.............................] - ETA: 0s - loss: 0.4318 - accuracy: 0.8594\n",
      "Epoch 167: saving model to model/keypoint_classifier\\keypoint_classifier.hdf5\n",
      "19/19 [==============================] - 0s 4ms/step - loss: 0.4497 - accuracy: 0.8363 - val_loss: 0.1959 - val_accuracy: 0.9739\n",
      "Epoch 168/1000\n",
      " 1/19 [>.............................] - ETA: 0s - loss: 0.4586 - accuracy: 0.8203\n",
      "Epoch 168: saving model to model/keypoint_classifier\\keypoint_classifier.hdf5\n",
      "19/19 [==============================] - 0s 4ms/step - loss: 0.4609 - accuracy: 0.8218 - val_loss: 0.1952 - val_accuracy: 0.9739\n",
      "Epoch 169/1000\n",
      " 1/19 [>.............................] - ETA: 0s - loss: 0.5316 - accuracy: 0.8359\n",
      "Epoch 169: saving model to model/keypoint_classifier\\keypoint_classifier.hdf5\n",
      "19/19 [==============================] - 0s 4ms/step - loss: 0.4461 - accuracy: 0.8371 - val_loss: 0.2026 - val_accuracy: 0.9739\n",
      "Epoch 170/1000\n",
      " 1/19 [>.............................] - ETA: 0s - loss: 0.4815 - accuracy: 0.8594\n",
      "Epoch 170: saving model to model/keypoint_classifier\\keypoint_classifier.hdf5\n",
      "19/19 [==============================] - 0s 5ms/step - loss: 0.4598 - accuracy: 0.8338 - val_loss: 0.1972 - val_accuracy: 0.9739\n",
      "Epoch 171/1000\n",
      " 1/19 [>.............................] - ETA: 0s - loss: 0.5360 - accuracy: 0.8281\n",
      "Epoch 171: saving model to model/keypoint_classifier\\keypoint_classifier.hdf5\n",
      "19/19 [==============================] - 0s 5ms/step - loss: 0.4581 - accuracy: 0.8297 - val_loss: 0.1966 - val_accuracy: 0.9739\n",
      "Epoch 172/1000\n",
      " 1/19 [>.............................] - ETA: 0s - loss: 0.4260 - accuracy: 0.8359\n",
      "Epoch 172: saving model to model/keypoint_classifier\\keypoint_classifier.hdf5\n",
      "19/19 [==============================] - 0s 5ms/step - loss: 0.4593 - accuracy: 0.8413 - val_loss: 0.1927 - val_accuracy: 0.9739\n",
      "Epoch 173/1000\n",
      " 1/19 [>.............................] - ETA: 0s - loss: 0.4819 - accuracy: 0.7969\n",
      "Epoch 173: saving model to model/keypoint_classifier\\keypoint_classifier.hdf5\n",
      "19/19 [==============================] - 0s 5ms/step - loss: 0.4563 - accuracy: 0.8313 - val_loss: 0.2030 - val_accuracy: 0.9752\n",
      "Epoch 174/1000\n",
      " 1/19 [>.............................] - ETA: 0s - loss: 0.4012 - accuracy: 0.8906\n",
      "Epoch 174: saving model to model/keypoint_classifier\\keypoint_classifier.hdf5\n",
      "19/19 [==============================] - 0s 5ms/step - loss: 0.4665 - accuracy: 0.8317 - val_loss: 0.2098 - val_accuracy: 0.9739\n",
      "Epoch 175/1000\n",
      " 1/19 [>.............................] - ETA: 0s - loss: 0.3575 - accuracy: 0.8203\n",
      "Epoch 175: saving model to model/keypoint_classifier\\keypoint_classifier.hdf5\n",
      "19/19 [==============================] - 0s 4ms/step - loss: 0.4624 - accuracy: 0.8301 - val_loss: 0.2051 - val_accuracy: 0.9739\n",
      "Epoch 176/1000\n",
      " 1/19 [>.............................] - ETA: 0s - loss: 0.4209 - accuracy: 0.8438\n",
      "Epoch 176: saving model to model/keypoint_classifier\\keypoint_classifier.hdf5\n",
      "19/19 [==============================] - 0s 4ms/step - loss: 0.4758 - accuracy: 0.8293 - val_loss: 0.1998 - val_accuracy: 0.9752\n",
      "Epoch 177/1000\n",
      " 1/19 [>.............................] - ETA: 0s - loss: 0.3893 - accuracy: 0.8594\n",
      "Epoch 177: saving model to model/keypoint_classifier\\keypoint_classifier.hdf5\n",
      "19/19 [==============================] - 0s 5ms/step - loss: 0.4590 - accuracy: 0.8288 - val_loss: 0.2011 - val_accuracy: 0.9752\n",
      "Epoch 178/1000\n",
      " 1/19 [>.............................] - ETA: 0s - loss: 0.5173 - accuracy: 0.8047\n",
      "Epoch 178: saving model to model/keypoint_classifier\\keypoint_classifier.hdf5\n",
      "19/19 [==============================] - 0s 4ms/step - loss: 0.4511 - accuracy: 0.8359 - val_loss: 0.1954 - val_accuracy: 0.9752\n",
      "Epoch 179/1000\n",
      " 1/19 [>.............................] - ETA: 0s - loss: 0.4011 - accuracy: 0.8438\n",
      "Epoch 179: saving model to model/keypoint_classifier\\keypoint_classifier.hdf5\n",
      "19/19 [==============================] - 0s 5ms/step - loss: 0.4770 - accuracy: 0.8239 - val_loss: 0.1998 - val_accuracy: 0.9752\n",
      "Epoch 180/1000\n",
      " 1/19 [>.............................] - ETA: 0s - loss: 0.4225 - accuracy: 0.8672\n",
      "Epoch 180: saving model to model/keypoint_classifier\\keypoint_classifier.hdf5\n",
      "19/19 [==============================] - 0s 4ms/step - loss: 0.4558 - accuracy: 0.8330 - val_loss: 0.2046 - val_accuracy: 0.9752\n",
      "Epoch 181/1000\n",
      " 1/19 [>.............................] - ETA: 0s - loss: 0.3614 - accuracy: 0.8750\n",
      "Epoch 181: saving model to model/keypoint_classifier\\keypoint_classifier.hdf5\n",
      "19/19 [==============================] - 0s 5ms/step - loss: 0.4312 - accuracy: 0.8450 - val_loss: 0.1993 - val_accuracy: 0.9739\n",
      "Epoch 182/1000\n",
      " 1/19 [>.............................] - ETA: 0s - loss: 0.4758 - accuracy: 0.8281\n",
      "Epoch 182: saving model to model/keypoint_classifier\\keypoint_classifier.hdf5\n",
      "19/19 [==============================] - 0s 4ms/step - loss: 0.4406 - accuracy: 0.8404 - val_loss: 0.1920 - val_accuracy: 0.9752\n",
      "Epoch 183/1000\n",
      " 1/19 [>.............................] - ETA: 0s - loss: 0.4955 - accuracy: 0.7734\n",
      "Epoch 183: saving model to model/keypoint_classifier\\keypoint_classifier.hdf5\n",
      "19/19 [==============================] - 0s 5ms/step - loss: 0.4524 - accuracy: 0.8363 - val_loss: 0.1935 - val_accuracy: 0.9752\n",
      "Epoch 184/1000\n",
      " 1/19 [>.............................] - ETA: 0s - loss: 0.4557 - accuracy: 0.8281\n",
      "Epoch 184: saving model to model/keypoint_classifier\\keypoint_classifier.hdf5\n",
      "19/19 [==============================] - 0s 4ms/step - loss: 0.4348 - accuracy: 0.8483 - val_loss: 0.1939 - val_accuracy: 0.9752\n",
      "Epoch 185/1000\n",
      " 1/19 [>.............................] - ETA: 0s - loss: 0.3532 - accuracy: 0.8750\n",
      "Epoch 185: saving model to model/keypoint_classifier\\keypoint_classifier.hdf5\n",
      "19/19 [==============================] - 0s 4ms/step - loss: 0.4571 - accuracy: 0.8400 - val_loss: 0.1941 - val_accuracy: 0.9739\n",
      "Epoch 186/1000\n",
      " 1/19 [>.............................] - ETA: 0s - loss: 0.3294 - accuracy: 0.8750\n",
      "Epoch 186: saving model to model/keypoint_classifier\\keypoint_classifier.hdf5\n",
      "19/19 [==============================] - 0s 4ms/step - loss: 0.4470 - accuracy: 0.8388 - val_loss: 0.1885 - val_accuracy: 0.9739\n",
      "Epoch 187/1000\n",
      " 1/19 [>.............................] - ETA: 0s - loss: 0.3364 - accuracy: 0.8438\n",
      "Epoch 187: saving model to model/keypoint_classifier\\keypoint_classifier.hdf5\n",
      "19/19 [==============================] - 0s 5ms/step - loss: 0.4119 - accuracy: 0.8483 - val_loss: 0.1929 - val_accuracy: 0.9752\n",
      "Epoch 188/1000\n",
      " 1/19 [>.............................] - ETA: 0s - loss: 0.3567 - accuracy: 0.8516\n",
      "Epoch 188: saving model to model/keypoint_classifier\\keypoint_classifier.hdf5\n",
      "19/19 [==============================] - 0s 5ms/step - loss: 0.4330 - accuracy: 0.8392 - val_loss: 0.1933 - val_accuracy: 0.9752\n",
      "Epoch 189/1000\n",
      " 1/19 [>.............................] - ETA: 0s - loss: 0.5143 - accuracy: 0.8047\n",
      "Epoch 189: saving model to model/keypoint_classifier\\keypoint_classifier.hdf5\n",
      "19/19 [==============================] - 0s 5ms/step - loss: 0.4746 - accuracy: 0.8222 - val_loss: 0.1937 - val_accuracy: 0.9752\n",
      "Epoch 190/1000\n",
      " 1/19 [>.............................] - ETA: 0s - loss: 0.4991 - accuracy: 0.8516\n",
      "Epoch 190: saving model to model/keypoint_classifier\\keypoint_classifier.hdf5\n",
      "19/19 [==============================] - 0s 4ms/step - loss: 0.4600 - accuracy: 0.8404 - val_loss: 0.1991 - val_accuracy: 0.9752\n",
      "Epoch 191/1000\n",
      " 1/19 [>.............................] - ETA: 0s - loss: 0.3834 - accuracy: 0.8516\n",
      "Epoch 191: saving model to model/keypoint_classifier\\keypoint_classifier.hdf5\n",
      "19/19 [==============================] - 0s 4ms/step - loss: 0.4368 - accuracy: 0.8421 - val_loss: 0.1922 - val_accuracy: 0.9739\n",
      "Epoch 192/1000\n",
      " 1/19 [>.............................] - ETA: 0s - loss: 0.3617 - accuracy: 0.9062\n",
      "Epoch 192: saving model to model/keypoint_classifier\\keypoint_classifier.hdf5\n",
      "19/19 [==============================] - 0s 4ms/step - loss: 0.4217 - accuracy: 0.8529 - val_loss: 0.1973 - val_accuracy: 0.9752\n"
     ]
    },
    {
     "name": "stdout",
     "output_type": "stream",
     "text": [
      "Epoch 193/1000\n",
      " 1/19 [>.............................] - ETA: 0s - loss: 0.4229 - accuracy: 0.8672\n",
      "Epoch 193: saving model to model/keypoint_classifier\\keypoint_classifier.hdf5\n",
      "19/19 [==============================] - 0s 4ms/step - loss: 0.4549 - accuracy: 0.8400 - val_loss: 0.1891 - val_accuracy: 0.9752\n",
      "Epoch 194/1000\n",
      " 1/19 [>.............................] - ETA: 0s - loss: 0.4192 - accuracy: 0.8359\n",
      "Epoch 194: saving model to model/keypoint_classifier\\keypoint_classifier.hdf5\n",
      "19/19 [==============================] - 0s 4ms/step - loss: 0.4450 - accuracy: 0.8396 - val_loss: 0.1908 - val_accuracy: 0.9752\n",
      "Epoch 195/1000\n",
      " 1/19 [>.............................] - ETA: 0s - loss: 0.5689 - accuracy: 0.8281\n",
      "Epoch 195: saving model to model/keypoint_classifier\\keypoint_classifier.hdf5\n",
      "19/19 [==============================] - 0s 4ms/step - loss: 0.4561 - accuracy: 0.8421 - val_loss: 0.1910 - val_accuracy: 0.9752\n",
      "Epoch 196/1000\n",
      " 1/19 [>.............................] - ETA: 0s - loss: 0.4529 - accuracy: 0.8516\n",
      "Epoch 196: saving model to model/keypoint_classifier\\keypoint_classifier.hdf5\n",
      "19/19 [==============================] - 0s 4ms/step - loss: 0.4424 - accuracy: 0.8404 - val_loss: 0.1905 - val_accuracy: 0.9752\n",
      "Epoch 197/1000\n",
      " 1/19 [>.............................] - ETA: 0s - loss: 0.4261 - accuracy: 0.8203\n",
      "Epoch 197: saving model to model/keypoint_classifier\\keypoint_classifier.hdf5\n",
      "19/19 [==============================] - 0s 4ms/step - loss: 0.4436 - accuracy: 0.8417 - val_loss: 0.1933 - val_accuracy: 0.9752\n",
      "Epoch 198/1000\n",
      " 1/19 [>.............................] - ETA: 0s - loss: 0.4145 - accuracy: 0.8203\n",
      "Epoch 198: saving model to model/keypoint_classifier\\keypoint_classifier.hdf5\n",
      "19/19 [==============================] - 0s 4ms/step - loss: 0.4463 - accuracy: 0.8380 - val_loss: 0.1945 - val_accuracy: 0.9752\n",
      "Epoch 199/1000\n",
      " 1/19 [>.............................] - ETA: 0s - loss: 0.4175 - accuracy: 0.8594\n",
      "Epoch 199: saving model to model/keypoint_classifier\\keypoint_classifier.hdf5\n",
      "19/19 [==============================] - 0s 4ms/step - loss: 0.4399 - accuracy: 0.8417 - val_loss: 0.1917 - val_accuracy: 0.9752\n",
      "Epoch 200/1000\n",
      " 1/19 [>.............................] - ETA: 0s - loss: 0.3122 - accuracy: 0.8828\n",
      "Epoch 200: saving model to model/keypoint_classifier\\keypoint_classifier.hdf5\n",
      "19/19 [==============================] - 0s 4ms/step - loss: 0.4183 - accuracy: 0.8492 - val_loss: 0.1946 - val_accuracy: 0.9752\n",
      "Epoch 201/1000\n",
      " 1/19 [>.............................] - ETA: 0s - loss: 0.4741 - accuracy: 0.8047\n",
      "Epoch 201: saving model to model/keypoint_classifier\\keypoint_classifier.hdf5\n",
      "19/19 [==============================] - 0s 4ms/step - loss: 0.4359 - accuracy: 0.8458 - val_loss: 0.1944 - val_accuracy: 0.9752\n",
      "Epoch 202/1000\n",
      " 1/19 [>.............................] - ETA: 0s - loss: 0.3185 - accuracy: 0.8984\n",
      "Epoch 202: saving model to model/keypoint_classifier\\keypoint_classifier.hdf5\n",
      "19/19 [==============================] - 0s 4ms/step - loss: 0.4374 - accuracy: 0.8400 - val_loss: 0.2001 - val_accuracy: 0.9752\n",
      "Epoch 203/1000\n",
      " 1/19 [>.............................] - ETA: 0s - loss: 0.3514 - accuracy: 0.8828\n",
      "Epoch 203: saving model to model/keypoint_classifier\\keypoint_classifier.hdf5\n",
      "19/19 [==============================] - 0s 4ms/step - loss: 0.4160 - accuracy: 0.8467 - val_loss: 0.1892 - val_accuracy: 0.9752\n",
      "Epoch 204/1000\n",
      " 1/19 [>.............................] - ETA: 0s - loss: 0.2749 - accuracy: 0.9219\n",
      "Epoch 204: saving model to model/keypoint_classifier\\keypoint_classifier.hdf5\n",
      "19/19 [==============================] - 0s 4ms/step - loss: 0.4391 - accuracy: 0.8454 - val_loss: 0.1871 - val_accuracy: 0.9752\n",
      "Epoch 205/1000\n",
      " 1/19 [>.............................] - ETA: 0s - loss: 0.3506 - accuracy: 0.8672\n",
      "Epoch 205: saving model to model/keypoint_classifier\\keypoint_classifier.hdf5\n",
      "19/19 [==============================] - 0s 4ms/step - loss: 0.4269 - accuracy: 0.8479 - val_loss: 0.1951 - val_accuracy: 0.9752\n",
      "Epoch 206/1000\n",
      " 1/19 [>.............................] - ETA: 0s - loss: 0.4139 - accuracy: 0.8594\n",
      "Epoch 206: saving model to model/keypoint_classifier\\keypoint_classifier.hdf5\n",
      "19/19 [==============================] - 0s 4ms/step - loss: 0.4495 - accuracy: 0.8487 - val_loss: 0.1902 - val_accuracy: 0.9752\n",
      "Epoch 207/1000\n",
      " 1/19 [>.............................] - ETA: 0s - loss: 0.4202 - accuracy: 0.8359\n",
      "Epoch 207: saving model to model/keypoint_classifier\\keypoint_classifier.hdf5\n",
      "19/19 [==============================] - 0s 4ms/step - loss: 0.4325 - accuracy: 0.8442 - val_loss: 0.1962 - val_accuracy: 0.9752\n",
      "Epoch 208/1000\n",
      " 1/19 [>.............................] - ETA: 0s - loss: 0.5201 - accuracy: 0.8438\n",
      "Epoch 208: saving model to model/keypoint_classifier\\keypoint_classifier.hdf5\n",
      "19/19 [==============================] - 0s 5ms/step - loss: 0.4353 - accuracy: 0.8454 - val_loss: 0.1950 - val_accuracy: 0.9752\n",
      "Epoch 209/1000\n",
      " 1/19 [>.............................] - ETA: 0s - loss: 0.3454 - accuracy: 0.8984\n",
      "Epoch 209: saving model to model/keypoint_classifier\\keypoint_classifier.hdf5\n",
      "19/19 [==============================] - 0s 5ms/step - loss: 0.4369 - accuracy: 0.8475 - val_loss: 0.1942 - val_accuracy: 0.9752\n",
      "Epoch 210/1000\n",
      " 1/19 [>.............................] - ETA: 0s - loss: 0.3721 - accuracy: 0.8750\n",
      "Epoch 210: saving model to model/keypoint_classifier\\keypoint_classifier.hdf5\n",
      "19/19 [==============================] - 0s 5ms/step - loss: 0.4330 - accuracy: 0.8404 - val_loss: 0.2031 - val_accuracy: 0.9739\n",
      "Epoch 211/1000\n",
      " 1/19 [>.............................] - ETA: 0s - loss: 0.4690 - accuracy: 0.8438\n",
      "Epoch 211: saving model to model/keypoint_classifier\\keypoint_classifier.hdf5\n",
      "19/19 [==============================] - 0s 5ms/step - loss: 0.4367 - accuracy: 0.8516 - val_loss: 0.1967 - val_accuracy: 0.9752\n",
      "Epoch 212/1000\n",
      " 1/19 [>.............................] - ETA: 0s - loss: 0.4359 - accuracy: 0.8438\n",
      "Epoch 212: saving model to model/keypoint_classifier\\keypoint_classifier.hdf5\n",
      "19/19 [==============================] - 0s 5ms/step - loss: 0.4158 - accuracy: 0.8496 - val_loss: 0.1913 - val_accuracy: 0.9752\n",
      "Epoch 213/1000\n",
      " 1/19 [>.............................] - ETA: 0s - loss: 0.5144 - accuracy: 0.7734\n",
      "Epoch 213: saving model to model/keypoint_classifier\\keypoint_classifier.hdf5\n",
      "19/19 [==============================] - 0s 4ms/step - loss: 0.4468 - accuracy: 0.8330 - val_loss: 0.1961 - val_accuracy: 0.9752\n",
      "Epoch 214/1000\n",
      " 1/19 [>.............................] - ETA: 0s - loss: 0.4792 - accuracy: 0.8516\n",
      "Epoch 214: saving model to model/keypoint_classifier\\keypoint_classifier.hdf5\n",
      "19/19 [==============================] - 0s 4ms/step - loss: 0.4289 - accuracy: 0.8525 - val_loss: 0.1936 - val_accuracy: 0.9752\n",
      "Epoch 215/1000\n",
      " 1/19 [>.............................] - ETA: 0s - loss: 0.4320 - accuracy: 0.8438\n",
      "Epoch 215: saving model to model/keypoint_classifier\\keypoint_classifier.hdf5\n",
      "19/19 [==============================] - 0s 4ms/step - loss: 0.4299 - accuracy: 0.8450 - val_loss: 0.1874 - val_accuracy: 0.9752\n",
      "Epoch 216/1000\n",
      " 1/19 [>.............................] - ETA: 0s - loss: 0.4829 - accuracy: 0.8281\n",
      "Epoch 216: saving model to model/keypoint_classifier\\keypoint_classifier.hdf5\n",
      "19/19 [==============================] - 0s 4ms/step - loss: 0.4271 - accuracy: 0.8521 - val_loss: 0.1933 - val_accuracy: 0.9752\n",
      "Epoch 217/1000\n",
      " 1/19 [>.............................] - ETA: 0s - loss: 0.3179 - accuracy: 0.8594\n",
      "Epoch 217: saving model to model/keypoint_classifier\\keypoint_classifier.hdf5\n",
      "19/19 [==============================] - 0s 5ms/step - loss: 0.4350 - accuracy: 0.8409 - val_loss: 0.2032 - val_accuracy: 0.9752\n",
      "Epoch 218/1000\n",
      " 1/19 [>.............................] - ETA: 0s - loss: 0.3723 - accuracy: 0.8984\n",
      "Epoch 218: saving model to model/keypoint_classifier\\keypoint_classifier.hdf5\n",
      "19/19 [==============================] - 0s 5ms/step - loss: 0.4176 - accuracy: 0.8516 - val_loss: 0.1989 - val_accuracy: 0.9752\n",
      "Epoch 219/1000\n",
      " 1/19 [>.............................] - ETA: 0s - loss: 0.4293 - accuracy: 0.8672\n",
      "Epoch 219: saving model to model/keypoint_classifier\\keypoint_classifier.hdf5\n",
      "19/19 [==============================] - 0s 5ms/step - loss: 0.4143 - accuracy: 0.8525 - val_loss: 0.1828 - val_accuracy: 0.9752\n"
     ]
    },
    {
     "name": "stdout",
     "output_type": "stream",
     "text": [
      "Epoch 220/1000\n",
      " 1/19 [>.............................] - ETA: 0s - loss: 0.3496 - accuracy: 0.8672\n",
      "Epoch 220: saving model to model/keypoint_classifier\\keypoint_classifier.hdf5\n",
      "19/19 [==============================] - 0s 5ms/step - loss: 0.4256 - accuracy: 0.8492 - val_loss: 0.1827 - val_accuracy: 0.9752\n",
      "Epoch 221/1000\n",
      " 1/19 [>.............................] - ETA: 0s - loss: 0.3537 - accuracy: 0.8672\n",
      "Epoch 221: saving model to model/keypoint_classifier\\keypoint_classifier.hdf5\n",
      "19/19 [==============================] - 0s 4ms/step - loss: 0.4292 - accuracy: 0.8446 - val_loss: 0.1874 - val_accuracy: 0.9752\n",
      "Epoch 222/1000\n",
      " 1/19 [>.............................] - ETA: 0s - loss: 0.3796 - accuracy: 0.8438\n",
      "Epoch 222: saving model to model/keypoint_classifier\\keypoint_classifier.hdf5\n",
      "19/19 [==============================] - 0s 4ms/step - loss: 0.4215 - accuracy: 0.8467 - val_loss: 0.1959 - val_accuracy: 0.9752\n",
      "Epoch 223/1000\n",
      " 1/19 [>.............................] - ETA: 0s - loss: 0.5842 - accuracy: 0.7500\n",
      "Epoch 223: saving model to model/keypoint_classifier\\keypoint_classifier.hdf5\n",
      "19/19 [==============================] - 0s 5ms/step - loss: 0.4266 - accuracy: 0.8442 - val_loss: 0.1935 - val_accuracy: 0.9752\n",
      "Epoch 224/1000\n",
      " 1/19 [>.............................] - ETA: 0s - loss: 0.3988 - accuracy: 0.8828\n",
      "Epoch 224: saving model to model/keypoint_classifier\\keypoint_classifier.hdf5\n",
      "19/19 [==============================] - 0s 4ms/step - loss: 0.4201 - accuracy: 0.8467 - val_loss: 0.1931 - val_accuracy: 0.9752\n",
      "Epoch 225/1000\n",
      " 1/19 [>.............................] - ETA: 0s - loss: 0.3222 - accuracy: 0.9219\n",
      "Epoch 225: saving model to model/keypoint_classifier\\keypoint_classifier.hdf5\n",
      "19/19 [==============================] - 0s 4ms/step - loss: 0.4225 - accuracy: 0.8558 - val_loss: 0.1888 - val_accuracy: 0.9752\n",
      "Epoch 226/1000\n",
      " 1/19 [>.............................] - ETA: 0s - loss: 0.3387 - accuracy: 0.8672\n",
      "Epoch 226: saving model to model/keypoint_classifier\\keypoint_classifier.hdf5\n",
      "19/19 [==============================] - 0s 5ms/step - loss: 0.4126 - accuracy: 0.8462 - val_loss: 0.1915 - val_accuracy: 0.9752\n",
      "Epoch 227/1000\n",
      " 1/19 [>.............................] - ETA: 0s - loss: 0.4191 - accuracy: 0.8594\n",
      "Epoch 227: saving model to model/keypoint_classifier\\keypoint_classifier.hdf5\n",
      "19/19 [==============================] - 0s 5ms/step - loss: 0.4017 - accuracy: 0.8608 - val_loss: 0.1904 - val_accuracy: 0.9752\n",
      "Epoch 228/1000\n",
      " 1/19 [>.............................] - ETA: 0s - loss: 0.3533 - accuracy: 0.8672\n",
      "Epoch 228: saving model to model/keypoint_classifier\\keypoint_classifier.hdf5\n",
      "19/19 [==============================] - 0s 4ms/step - loss: 0.4146 - accuracy: 0.8541 - val_loss: 0.1810 - val_accuracy: 0.9752\n",
      "Epoch 229/1000\n",
      " 1/19 [>.............................] - ETA: 0s - loss: 0.4131 - accuracy: 0.8594\n",
      "Epoch 229: saving model to model/keypoint_classifier\\keypoint_classifier.hdf5\n",
      "19/19 [==============================] - 0s 4ms/step - loss: 0.3926 - accuracy: 0.8566 - val_loss: 0.1811 - val_accuracy: 0.9752\n",
      "Epoch 230/1000\n",
      " 1/19 [>.............................] - ETA: 0s - loss: 0.3668 - accuracy: 0.8594\n",
      "Epoch 230: saving model to model/keypoint_classifier\\keypoint_classifier.hdf5\n",
      "19/19 [==============================] - 0s 4ms/step - loss: 0.4338 - accuracy: 0.8409 - val_loss: 0.1923 - val_accuracy: 0.9752\n",
      "Epoch 231/1000\n",
      " 1/19 [>.............................] - ETA: 0s - loss: 0.3738 - accuracy: 0.8516\n",
      "Epoch 231: saving model to model/keypoint_classifier\\keypoint_classifier.hdf5\n",
      "19/19 [==============================] - 0s 4ms/step - loss: 0.4451 - accuracy: 0.8446 - val_loss: 0.2018 - val_accuracy: 0.9752\n",
      "Epoch 232/1000\n",
      " 1/19 [>.............................] - ETA: 0s - loss: 0.4122 - accuracy: 0.8438\n",
      "Epoch 232: saving model to model/keypoint_classifier\\keypoint_classifier.hdf5\n",
      "19/19 [==============================] - 0s 4ms/step - loss: 0.4140 - accuracy: 0.8579 - val_loss: 0.1993 - val_accuracy: 0.9752\n",
      "Epoch 233/1000\n",
      " 1/19 [>.............................] - ETA: 0s - loss: 0.4750 - accuracy: 0.7812\n",
      "Epoch 233: saving model to model/keypoint_classifier\\keypoint_classifier.hdf5\n",
      "19/19 [==============================] - 0s 5ms/step - loss: 0.4227 - accuracy: 0.8417 - val_loss: 0.1969 - val_accuracy: 0.9752\n",
      "Epoch 234/1000\n",
      " 1/19 [>.............................] - ETA: 0s - loss: 0.4779 - accuracy: 0.8047\n",
      "Epoch 234: saving model to model/keypoint_classifier\\keypoint_classifier.hdf5\n",
      "19/19 [==============================] - 0s 5ms/step - loss: 0.4237 - accuracy: 0.8475 - val_loss: 0.1958 - val_accuracy: 0.9752\n",
      "Epoch 235/1000\n",
      " 1/19 [>.............................] - ETA: 0s - loss: 0.4416 - accuracy: 0.8281\n",
      "Epoch 235: saving model to model/keypoint_classifier\\keypoint_classifier.hdf5\n",
      "19/19 [==============================] - 0s 4ms/step - loss: 0.4154 - accuracy: 0.8554 - val_loss: 0.1966 - val_accuracy: 0.9752\n",
      "Epoch 236/1000\n",
      " 1/19 [>.............................] - ETA: 0s - loss: 0.3679 - accuracy: 0.8906\n",
      "Epoch 236: saving model to model/keypoint_classifier\\keypoint_classifier.hdf5\n",
      "19/19 [==============================] - 0s 4ms/step - loss: 0.4126 - accuracy: 0.8529 - val_loss: 0.1992 - val_accuracy: 0.9727\n",
      "Epoch 237/1000\n",
      " 1/19 [>.............................] - ETA: 0s - loss: 0.4105 - accuracy: 0.8672\n",
      "Epoch 237: saving model to model/keypoint_classifier\\keypoint_classifier.hdf5\n",
      "19/19 [==============================] - 0s 4ms/step - loss: 0.3969 - accuracy: 0.8628 - val_loss: 0.1951 - val_accuracy: 0.9727\n",
      "Epoch 238/1000\n",
      " 1/19 [>.............................] - ETA: 0s - loss: 0.5585 - accuracy: 0.8203\n",
      "Epoch 238: saving model to model/keypoint_classifier\\keypoint_classifier.hdf5\n",
      "19/19 [==============================] - 0s 4ms/step - loss: 0.4266 - accuracy: 0.8496 - val_loss: 0.1989 - val_accuracy: 0.9727\n",
      "Epoch 239/1000\n",
      " 1/19 [>.............................] - ETA: 0s - loss: 0.3822 - accuracy: 0.8516\n",
      "Epoch 239: saving model to model/keypoint_classifier\\keypoint_classifier.hdf5\n",
      "19/19 [==============================] - 0s 4ms/step - loss: 0.4297 - accuracy: 0.8483 - val_loss: 0.2000 - val_accuracy: 0.9727\n",
      "Epoch 240/1000\n",
      " 1/19 [>.............................] - ETA: 0s - loss: 0.4775 - accuracy: 0.8438\n",
      "Epoch 240: saving model to model/keypoint_classifier\\keypoint_classifier.hdf5\n",
      "19/19 [==============================] - 0s 4ms/step - loss: 0.4220 - accuracy: 0.8479 - val_loss: 0.1933 - val_accuracy: 0.9739\n",
      "Epoch 241/1000\n",
      " 1/19 [>.............................] - ETA: 0s - loss: 0.3946 - accuracy: 0.8438\n",
      "Epoch 241: saving model to model/keypoint_classifier\\keypoint_classifier.hdf5\n",
      "19/19 [==============================] - 0s 5ms/step - loss: 0.4137 - accuracy: 0.8550 - val_loss: 0.1933 - val_accuracy: 0.9714\n",
      "Epoch 242/1000\n",
      " 1/19 [>.............................] - ETA: 0s - loss: 0.3933 - accuracy: 0.8594\n",
      "Epoch 242: saving model to model/keypoint_classifier\\keypoint_classifier.hdf5\n",
      "19/19 [==============================] - 0s 5ms/step - loss: 0.3786 - accuracy: 0.8599 - val_loss: 0.1832 - val_accuracy: 0.9752\n",
      "Epoch 243/1000\n",
      " 1/19 [>.............................] - ETA: 0s - loss: 0.4341 - accuracy: 0.8516\n",
      "Epoch 243: saving model to model/keypoint_classifier\\keypoint_classifier.hdf5\n",
      "19/19 [==============================] - 0s 5ms/step - loss: 0.4251 - accuracy: 0.8512 - val_loss: 0.1899 - val_accuracy: 0.9727\n",
      "Epoch 244/1000\n",
      " 1/19 [>.............................] - ETA: 0s - loss: 0.3944 - accuracy: 0.8359\n",
      "Epoch 244: saving model to model/keypoint_classifier\\keypoint_classifier.hdf5\n",
      "19/19 [==============================] - 0s 5ms/step - loss: 0.3983 - accuracy: 0.8554 - val_loss: 0.1919 - val_accuracy: 0.9739\n",
      "Epoch 245/1000\n",
      " 1/19 [>.............................] - ETA: 0s - loss: 0.4761 - accuracy: 0.8438\n",
      "Epoch 245: saving model to model/keypoint_classifier\\keypoint_classifier.hdf5\n",
      "19/19 [==============================] - 0s 4ms/step - loss: 0.4133 - accuracy: 0.8566 - val_loss: 0.1969 - val_accuracy: 0.9727\n",
      "Epoch 246/1000\n",
      " 1/19 [>.............................] - ETA: 0s - loss: 0.6068 - accuracy: 0.7969\n",
      "Epoch 246: saving model to model/keypoint_classifier\\keypoint_classifier.hdf5\n",
      "19/19 [==============================] - 0s 4ms/step - loss: 0.4176 - accuracy: 0.8454 - val_loss: 0.2019 - val_accuracy: 0.9727\n"
     ]
    },
    {
     "name": "stdout",
     "output_type": "stream",
     "text": [
      "Epoch 247/1000\n",
      " 1/19 [>.............................] - ETA: 0s - loss: 0.3610 - accuracy: 0.8906\n",
      "Epoch 247: saving model to model/keypoint_classifier\\keypoint_classifier.hdf5\n",
      "19/19 [==============================] - 0s 4ms/step - loss: 0.3987 - accuracy: 0.8558 - val_loss: 0.1888 - val_accuracy: 0.9739\n",
      "Epoch 248/1000\n",
      " 1/19 [>.............................] - ETA: 0s - loss: 0.4156 - accuracy: 0.8281\n",
      "Epoch 248: saving model to model/keypoint_classifier\\keypoint_classifier.hdf5\n",
      "19/19 [==============================] - 0s 4ms/step - loss: 0.3843 - accuracy: 0.8620 - val_loss: 0.1844 - val_accuracy: 0.9752\n",
      "Epoch 248: early stopping\n"
     ]
    },
    {
     "data": {
      "text/plain": [
       "<keras.src.callbacks.History at 0x1895fe59dc0>"
      ]
     },
     "execution_count": 11,
     "metadata": {},
     "output_type": "execute_result"
    }
   ],
   "source": [
    "model.fit(\n",
    "    X_train,\n",
    "    y_train,\n",
    "    epochs=1000,\n",
    "    batch_size=128,\n",
    "    validation_data=(X_test, y_test),\n",
    "    callbacks=[cp_callback, es_callback]\n",
    ")"
   ]
  },
  {
   "cell_type": "code",
   "execution_count": 12,
   "metadata": {
    "ExecuteTime": {
     "end_time": "2023-12-04T19:05:59.473366Z",
     "start_time": "2023-12-04T19:05:59.402432Z"
    },
    "colab": {
     "base_uri": "https://localhost:8080/"
    },
    "id": "pxvb2Y299hE3",
    "outputId": "59eb3185-2e37-4b9e-bc9d-ab1b8ac29b7f"
   },
   "outputs": [
    {
     "name": "stdout",
     "output_type": "stream",
     "text": [
      "7/7 [==============================] - 0s 3ms/step - loss: 0.1844 - accuracy: 0.9752\n"
     ]
    }
   ],
   "source": [
    "# Model evaluation\n",
    "val_loss, val_acc = model.evaluate(X_test, y_test, batch_size=128)"
   ]
  },
  {
   "cell_type": "code",
   "execution_count": 13,
   "metadata": {
    "ExecuteTime": {
     "end_time": "2023-12-04T19:06:00.385632Z",
     "start_time": "2023-12-04T19:06:00.309755Z"
    },
    "id": "RBkmDeUW9hE4"
   },
   "outputs": [],
   "source": [
    "# Loading the saved model\n",
    "model = tf.keras.models.load_model(model_save_path)"
   ]
  },
  {
   "cell_type": "code",
   "execution_count": 14,
   "metadata": {
    "ExecuteTime": {
     "end_time": "2023-12-04T19:06:01.085502Z",
     "start_time": "2023-12-04T19:06:00.971445Z"
    },
    "colab": {
     "base_uri": "https://localhost:8080/"
    },
    "id": "tFz9Tb0I9hE4",
    "outputId": "1c3b3528-54ae-4ee2-ab04-77429211cbef"
   },
   "outputs": [
    {
     "name": "stdout",
     "output_type": "stream",
     "text": [
      "1/1 [==============================] - 0s 69ms/step\n",
      "[1.9806314e-03 8.5575724e-01 1.0849167e-01 2.2129349e-02 1.1310181e-02\n",
      " 3.3096055e-04]\n",
      "1\n"
     ]
    }
   ],
   "source": [
    "# Inference test\n",
    "predict_result = model.predict(np.array([X_test[0]]))\n",
    "print(np.squeeze(predict_result))\n",
    "print(np.argmax(np.squeeze(predict_result)))"
   ]
  },
  {
   "cell_type": "markdown",
   "metadata": {
    "id": "S3U4yNWx9hE4"
   },
   "source": [
    "# Confusion matrix"
   ]
  },
  {
   "cell_type": "code",
   "execution_count": 15,
   "metadata": {
    "ExecuteTime": {
     "end_time": "2023-12-04T19:06:06.971917Z",
     "start_time": "2023-12-04T19:06:04.409249Z"
    },
    "colab": {
     "base_uri": "https://localhost:8080/",
     "height": 582
    },
    "id": "AP1V6SCk9hE5",
    "outputId": "08e41a80-7a4a-4619-8125-ecc371368d19"
   },
   "outputs": [
    {
     "name": "stdout",
     "output_type": "stream",
     "text": [
      "26/26 [==============================] - 0s 1ms/step\n"
     ]
    },
    {
     "data": {
      "image/png": "[encoded data removed]",
      "text/plain": [
       "<Figure size 504x432 with 2 Axes>"
      ]
     },
     "metadata": {
      "needs_background": "light"
     },
     "output_type": "display_data"
    },
    {
     "name": "stdout",
     "output_type": "stream",
     "text": [
      "Classification Report\n",
      "              precision    recall  f1-score   support\n",
      "\n",
      "           0       0.99      0.97      0.98       110\n",
      "           1       0.99      0.98      0.98       140\n",
      "           2       0.94      0.96      0.95       124\n",
      "           3       0.99      0.95      0.97       166\n",
      "           4       0.94      1.00      0.97       117\n",
      "           5       0.99      0.99      0.99       148\n",
      "\n",
      "    accuracy                           0.98       805\n",
      "   macro avg       0.97      0.98      0.97       805\n",
      "weighted avg       0.98      0.98      0.98       805\n",
      "\n"
     ]
    }
   ],
   "source": [
    "import pandas as pd\n",
    "import seaborn as sns\n",
    "import matplotlib.pyplot as plt\n",
    "from sklearn.metrics import confusion_matrix, classification_report\n",
    "\n",
    "def print_confusion_matrix(y_true, y_pred, report=True):\n",
    "    labels = sorted(list(set(y_true)))\n",
    "    cmx_data = confusion_matrix(y_true, y_pred, labels=labels)\n",
    "    \n",
    "    df_cmx = pd.DataFrame(cmx_data, index=labels, columns=labels)\n",
    " \n",
    "    fig, ax = plt.subplots(figsize=(7, 6))\n",
    "    sns.heatmap(df_cmx, annot=True, fmt='g' ,square=False)\n",
    "    ax.set_ylim(len(set(y_true)), 0)\n",
    "    plt.show()\n",
    "    \n",
    "    if report:\n",
    "        print('Classification Report')\n",
    "        print(classification_report(y_test, y_pred))\n",
    "\n",
    "Y_pred = model.predict(X_test)\n",
    "y_pred = np.argmax(Y_pred, axis=1)\n",
    "\n",
    "print_confusion_matrix(y_test, y_pred)"
   ]
  },
  {
   "cell_type": "markdown",
   "metadata": {
    "id": "FNP6aqzc9hE5"
   },
   "source": [
    "# Convert to model for Tensorflow-Lite"
   ]
  },
  {
   "cell_type": "code",
   "execution_count": null,
   "metadata": {
    "ExecuteTime": {
     "end_time": "2023-12-04T19:06:07.013194Z",
     "start_time": "2023-12-04T19:06:07.013194Z"
    },
    "id": "ODjnYyld9hE6"
   },
   "outputs": [],
   "source": [
    "# Save as a model dedicated to inference\n",
    "model.save(model_save_path, include_optimizer=False)"
   ]
  },
  {
   "cell_type": "code",
   "execution_count": 16,
   "metadata": {
    "ExecuteTime": {
     "end_time": "2023-12-04T19:06:10.487964Z",
     "start_time": "2023-12-04T19:06:09.332323Z"
    },
    "colab": {
     "base_uri": "https://localhost:8080/"
    },
    "id": "zRfuK8Y59hE6",
    "outputId": "a4ca585c-b5d5-4244-8291-8674063209bb"
   },
   "outputs": [
    {
     "name": "stdout",
     "output_type": "stream",
     "text": [
      "INFO:tensorflow:Assets written to: C:\\Users\\20100\\AppData\\Local\\Temp\\tmpfz3vtl31\\assets\n"
     ]
    },
    {
     "name": "stderr",
     "output_type": "stream",
     "text": [
      "INFO:tensorflow:Assets written to: C:\\Users\\20100\\AppData\\Local\\Temp\\tmpfz3vtl31\\assets\n"
     ]
    },
    {
     "data": {
      "text/plain": [
       "6632"
      ]
     },
     "execution_count": 16,
     "metadata": {},
     "output_type": "execute_result"
    }
   ],
   "source": [
    "# Transform model (quantization)\n",
    "\n",
    "converter = tf.lite.TFLiteConverter.from_keras_model(model)\n",
    "converter.optimizations = [tf.lite.Optimize.DEFAULT]\n",
    "tflite_quantized_model = converter.convert()\n",
    "\n",
    "open(tflite_save_path, 'wb').write(tflite_quantized_model)"
   ]
  },
  {
   "cell_type": "markdown",
   "metadata": {
    "id": "CHBPBXdx9hE6"
   },
   "source": [
    "# Inference test"
   ]
  },
  {
   "cell_type": "code",
   "execution_count": 17,
   "metadata": {
    "ExecuteTime": {
     "end_time": "2023-12-04T19:06:24.892388Z",
     "start_time": "2023-12-04T19:06:24.874687Z"
    },
    "id": "mGAzLocO9hE7"
   },
   "outputs": [],
   "source": [
    "interpreter = tf.lite.Interpreter(model_path=tflite_save_path)\n",
    "interpreter.allocate_tensors()"
   ]
  },
  {
   "cell_type": "code",
   "execution_count": 18,
   "metadata": {
    "ExecuteTime": {
     "end_time": "2023-12-04T19:06:25.667400Z",
     "start_time": "2023-12-04T19:06:25.661962Z"
    },
    "id": "oQuDK8YS9hE7"
   },
   "outputs": [],
   "source": [
    "# Get I / O tensor\n",
    "input_details = interpreter.get_input_details()\n",
    "output_details = interpreter.get_output_details()"
   ]
  },
  {
   "cell_type": "code",
   "execution_count": 19,
   "metadata": {
    "ExecuteTime": {
     "end_time": "2023-12-04T19:06:26.390349Z",
     "start_time": "2023-12-04T19:06:26.380225Z"
    },
    "id": "2_ixAf_l9hE7"
   },
   "outputs": [],
   "source": [
    "interpreter.set_tensor(input_details[0]['index'], np.array([X_test[0]]))"
   ]
  },
  {
   "cell_type": "code",
   "execution_count": 20,
   "metadata": {
    "ExecuteTime": {
     "end_time": "2023-12-04T19:06:27.023167Z",
     "start_time": "2023-12-04T19:06:27.013721Z"
    },
    "colab": {
     "base_uri": "https://localhost:8080/"
    },
    "id": "s4FoAnuc9hE7",
    "outputId": "91f18257-8d8b-4ef3-c558-e9b5f94fabbf",
    "scrolled": true
   },
   "outputs": [
    {
     "name": "stdout",
     "output_type": "stream",
     "text": [
      "CPU times: total: 0 ns\n",
      "Wall time: 0 ns\n"
     ]
    }
   ],
   "source": [
    "%%time\n",
    "# Inference implementation\n",
    "interpreter.invoke()\n",
    "tflite_results = interpreter.get_tensor(output_details[0]['index'])"
   ]
  },
  {
   "cell_type": "code",
   "execution_count": 21,
   "metadata": {
    "ExecuteTime": {
     "end_time": "2023-12-04T19:06:27.975453Z",
     "start_time": "2023-12-04T19:06:27.963105Z"
    },
    "colab": {
     "base_uri": "https://localhost:8080/"
    },
    "id": "vONjp19J9hE8",
    "outputId": "77205e24-fd00-42c4-f7b6-e06e527c2cba"
   },
   "outputs": [
    {
     "name": "stdout",
     "output_type": "stream",
     "text": [
      "[1.9806277e-03 8.5575730e-01 1.0849162e-01 2.2129344e-02 1.1310181e-02\n",
      " 3.3096012e-04]\n",
      "1\n"
     ]
    }
   ],
   "source": [
    "print(np.squeeze(tflite_results))\n",
    "print(np.argmax(np.squeeze(tflite_results)))"
   ]
  },
  {
   "cell_type": "code",
   "execution_count": null,
   "metadata": {},
   "outputs": [],
   "source": []
  }
 ],
 "metadata": {
  "accelerator": "GPU",
  "colab": {
   "collapsed_sections": [],
   "name": "keypoint_classification_EN.ipynb",
   "provenance": [],
   "toc_visible": true
  },
  "kernelspec": {
   "display_name": "Python 3 (ipykernel)",
   "language": "python",
   "name": "python3"
  },
  "language_info": {
   "codemirror_mode": {
    "name": "ipython",
    "version": 3
   },
   "file_extension": ".py",
   "mimetype": "text/x-python",
   "name": "python",
   "nbconvert_exporter": "python",
   "pygments_lexer": "ipython3",
   "version": "3.9.12"
  },
  "toc": {
   "base_numbering": 1,
   "nav_menu": {},
   "number_sections": true,
   "sideBar": true,
   "skip_h1_title": false,
   "title_cell": "Table of Contents",
   "title_sidebar": "Contents",
   "toc_cell": false,
   "toc_position": {},
   "toc_section_display": true,
   "toc_window_display": false
  },
  "varInspector": {
   "cols": {
    "lenName": 16,
    "lenType": 16,
    "lenVar": 40
   },
   "kernels_config": {
    "python": {
     "delete_cmd_postfix": "",
     "delete_cmd_prefix": "del ",
     "library": "var_list.py",
     "varRefreshCmd": "print(var_dic_list())"
    },
    "r": {
     "delete_cmd_postfix": ") ",
     "delete_cmd_prefix": "rm(",
     "library": "var_list.r",
     "varRefreshCmd": "cat(var_dic_list()) "
    }
   },
   "types_to_exclude": [
    "module",
    "function",
    "builtin_function_or_method",
    "instance",
    "_Feature"
   ],
   "window_display": false
  }
 },
 "nbformat": 4,
 "nbformat_minor": 1
}
